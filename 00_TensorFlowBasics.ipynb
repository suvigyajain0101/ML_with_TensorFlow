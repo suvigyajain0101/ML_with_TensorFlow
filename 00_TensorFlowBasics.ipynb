{
  "nbformat": 4,
  "nbformat_minor": 0,
  "metadata": {
    "colab": {
      "name": "00_TensorFlowBasics.ipynb",
      "provenance": [],
      "collapsed_sections": [],
      "authorship_tag": "ABX9TyPyy5e3ZrcsqKTnPIJ3T5IV"
    },
    "kernelspec": {
      "name": "python3",
      "display_name": "Python 3"
    },
    "language_info": {
      "name": "python"
    }
  },
  "cells": [
    {
      "cell_type": "markdown",
      "metadata": {
        "id": "Rl52sZSrjeR-"
      },
      "source": [
        "## Tensors and TensorFlow Basics\n",
        "\n",
        "We will cover following topics in this notebook - \n",
        "\n",
        "* Introduction to tensors\n",
        "* Getting information from tensors\n",
        "* Manipulating tensors\n",
        "* Tensors and NumPy\n",
        "* Using GPUs"
      ]
    },
    {
      "cell_type": "markdown",
      "metadata": {
        "id": "97RCSFy6lCKF"
      },
      "source": [
        "## Introduction to tensors"
      ]
    },
    {
      "cell_type": "code",
      "metadata": {
        "colab": {
          "base_uri": "https://localhost:8080/"
        },
        "id": "E22JRt8dpea2",
        "outputId": "cd005acf-21a2-41c1-915b-2991bea663d4"
      },
      "source": [
        "# Import tensorflow\n",
        "import tensorflow as tf\n",
        "print(tf.__version__)"
      ],
      "execution_count": 6,
      "outputs": [
        {
          "output_type": "stream",
          "name": "stdout",
          "text": [
            "2.8.0\n"
          ]
        }
      ]
    },
    {
      "cell_type": "code",
      "metadata": {
        "colab": {
          "base_uri": "https://localhost:8080/"
        },
        "id": "b78t2CVApxYQ",
        "outputId": "f3f82bac-5db5-4d36-ff48-80dcc25b2dfc"
      },
      "source": [
        "# Creating tensors - Generally won't create a tensor by yourself, mostly tensors will come from data like images, embeddings yada yada\n",
        "\n",
        "scalar = tf.constant(7)\n",
        "scalar"
      ],
      "execution_count": 7,
      "outputs": [
        {
          "output_type": "execute_result",
          "data": {
            "text/plain": [
              "<tf.Tensor: shape=(), dtype=int32, numpy=7>"
            ]
          },
          "metadata": {},
          "execution_count": 7
        }
      ]
    },
    {
      "cell_type": "code",
      "metadata": {
        "colab": {
          "base_uri": "https://localhost:8080/"
        },
        "id": "hf2X5bXXlx7L",
        "outputId": "051fce51-8731-4731-ab7e-60b2094ac8ea"
      },
      "source": [
        "# Check the dimensions of the tensor\n",
        "# If you don't understand why the output should be zero, check out Dan's YouTube video \"What is a Tensor\"\n",
        "scalar.ndim"
      ],
      "execution_count": 8,
      "outputs": [
        {
          "output_type": "execute_result",
          "data": {
            "text/plain": [
              "0"
            ]
          },
          "metadata": {},
          "execution_count": 8
        }
      ]
    },
    {
      "cell_type": "code",
      "metadata": {
        "colab": {
          "base_uri": "https://localhost:8080/"
        },
        "id": "rBmBoMommY6F",
        "outputId": "60313082-0154-4bb6-9ee2-911852602310"
      },
      "source": [
        "# Let's create another tensor\n",
        "\n",
        "vector = tf.constant([10, 10])\n",
        "vector"
      ],
      "execution_count": 9,
      "outputs": [
        {
          "output_type": "execute_result",
          "data": {
            "text/plain": [
              "<tf.Tensor: shape=(2,), dtype=int32, numpy=array([10, 10], dtype=int32)>"
            ]
          },
          "metadata": {},
          "execution_count": 9
        }
      ]
    },
    {
      "cell_type": "code",
      "metadata": {
        "colab": {
          "base_uri": "https://localhost:8080/"
        },
        "id": "aUy0tSfsmkYl",
        "outputId": "a4e5c206-28a2-4abe-b22a-725da1d4cb19"
      },
      "source": [
        "# Let's check the dims again\n",
        "vector.ndim"
      ],
      "execution_count": 10,
      "outputs": [
        {
          "output_type": "execute_result",
          "data": {
            "text/plain": [
              "1"
            ]
          },
          "metadata": {},
          "execution_count": 10
        }
      ]
    },
    {
      "cell_type": "code",
      "source": [
        "# Let's create another tensor\n",
        "\n",
        "vector = tf.constant([10, 10, 10])\n",
        "vector"
      ],
      "metadata": {
        "colab": {
          "base_uri": "https://localhost:8080/"
        },
        "id": "5mQ-bHHOaSbM",
        "outputId": "ed1b37ab-6e14-4ba3-f49d-1ee71805697d"
      },
      "execution_count": 12,
      "outputs": [
        {
          "output_type": "execute_result",
          "data": {
            "text/plain": [
              "<tf.Tensor: shape=(3,), dtype=int32, numpy=array([10, 10, 10], dtype=int32)>"
            ]
          },
          "metadata": {},
          "execution_count": 12
        }
      ]
    },
    {
      "cell_type": "code",
      "source": [
        "# Let's check the dims again\n",
        "vector.ndim"
      ],
      "metadata": {
        "colab": {
          "base_uri": "https://localhost:8080/"
        },
        "id": "7bXpt4UfaVII",
        "outputId": "96376734-c60b-4b81-a1f3-64fe45998053"
      },
      "execution_count": 13,
      "outputs": [
        {
          "output_type": "execute_result",
          "data": {
            "text/plain": [
              "1"
            ]
          },
          "metadata": {},
          "execution_count": 13
        }
      ]
    },
    {
      "cell_type": "code",
      "source": [
        "# Notice that it's still dim 1 tensor. Don't confuse tensor ranks with coordinates or other things. \n",
        "# A tensor rank is simply the number of directional indicator (or basis vector) per component\n",
        "# For the above, we still only need 1 index per direction (x, y or z) and hence rank 1 tensor\n",
        "\n",
        "# A non \"scientific\" but working way to understand a tensor is to count how many steps you need to access that element in the matrix"
      ],
      "metadata": {
        "id": "AHD4_XZVaYag"
      },
      "execution_count": 14,
      "outputs": []
    },
    {
      "cell_type": "code",
      "metadata": {
        "colab": {
          "base_uri": "https://localhost:8080/"
        },
        "id": "tA1OM_lXmwUU",
        "outputId": "c8adf2bf-b00a-468f-c0f9-0b16d8667957"
      },
      "source": [
        "# Another tensor\n",
        "\n",
        "matrix = tf.constant([[10,10], [10,10]])\n",
        "matrix"
      ],
      "execution_count": 15,
      "outputs": [
        {
          "output_type": "execute_result",
          "data": {
            "text/plain": [
              "<tf.Tensor: shape=(2, 2), dtype=int32, numpy=\n",
              "array([[10, 10],\n",
              "       [10, 10]], dtype=int32)>"
            ]
          },
          "metadata": {},
          "execution_count": 15
        }
      ]
    },
    {
      "cell_type": "code",
      "metadata": {
        "colab": {
          "base_uri": "https://localhost:8080/"
        },
        "id": "MO_kpo9pnBR5",
        "outputId": "632fcc9e-6182-4b0a-b970-e385c227a329"
      },
      "source": [
        "matrix.ndim"
      ],
      "execution_count": 16,
      "outputs": [
        {
          "output_type": "execute_result",
          "data": {
            "text/plain": [
              "2"
            ]
          },
          "metadata": {},
          "execution_count": 16
        }
      ]
    },
    {
      "cell_type": "code",
      "source": [
        "# It might be easier now to understand why it's rank 2 tensor. [[Axx, Axy], [Ayx, Ayy]]"
      ],
      "metadata": {
        "id": "j34k16M_bPEB"
      },
      "execution_count": null,
      "outputs": []
    },
    {
      "cell_type": "code",
      "metadata": {
        "colab": {
          "base_uri": "https://localhost:8080/"
        },
        "id": "fU_M1oNKnEq9",
        "outputId": "46db8aa5-3c58-4fe1-efeb-33cbf86a1086"
      },
      "source": [
        "# Keep on going\n",
        "\n",
        "another_matrix = tf.constant([[1,2,3,4],\n",
        "                              [2,3,4,5],\n",
        "                              [3,4,5,6],\n",
        "                              [4,5,6,7]])\n",
        "another_matrix"
      ],
      "execution_count": 17,
      "outputs": [
        {
          "output_type": "execute_result",
          "data": {
            "text/plain": [
              "<tf.Tensor: shape=(4, 4), dtype=int32, numpy=\n",
              "array([[1, 2, 3, 4],\n",
              "       [2, 3, 4, 5],\n",
              "       [3, 4, 5, 6],\n",
              "       [4, 5, 6, 7]], dtype=int32)>"
            ]
          },
          "metadata": {},
          "execution_count": 17
        }
      ]
    },
    {
      "cell_type": "code",
      "metadata": {
        "colab": {
          "base_uri": "https://localhost:8080/"
        },
        "id": "pcnZ53U3nxJc",
        "outputId": "ba3882a0-7fba-460e-b137-0324d0b4bf24"
      },
      "source": [
        "another_matrix.ndim"
      ],
      "execution_count": 18,
      "outputs": [
        {
          "output_type": "execute_result",
          "data": {
            "text/plain": [
              "2"
            ]
          },
          "metadata": {},
          "execution_count": 18
        }
      ]
    },
    {
      "cell_type": "code",
      "metadata": {
        "id": "lrQcH7oOn0Sc"
      },
      "source": [
        "# Surprise surprise!! Still a rank 2 tensor\n",
        "# By the method of no. of elements to reach any element, we still only need 2 values - Stack number and position in the stack!"
      ],
      "execution_count": null,
      "outputs": []
    },
    {
      "cell_type": "code",
      "metadata": {
        "colab": {
          "base_uri": "https://localhost:8080/"
        },
        "id": "EHZrL8MlolNd",
        "outputId": "875fbbc6-3d5d-4d6a-e0f3-5c3d262470e0"
      },
      "source": [
        "# still, keep going\n",
        "\n",
        "tensor = tf.constant([[[1,2], \n",
        "                          [2,3]],\n",
        "                      [[5,6], \n",
        "                          [7,8]]])\n",
        "tensor"
      ],
      "execution_count": 19,
      "outputs": [
        {
          "output_type": "execute_result",
          "data": {
            "text/plain": [
              "<tf.Tensor: shape=(2, 2, 2), dtype=int32, numpy=\n",
              "array([[[1, 2],\n",
              "        [2, 3]],\n",
              "\n",
              "       [[5, 6],\n",
              "        [7, 8]]], dtype=int32)>"
            ]
          },
          "metadata": {},
          "execution_count": 19
        }
      ]
    },
    {
      "cell_type": "code",
      "metadata": {
        "colab": {
          "base_uri": "https://localhost:8080/"
        },
        "id": "iPGznTCTo1kp",
        "outputId": "a5baee73-3327-45a7-8ce6-ab000ea7b12b"
      },
      "source": [
        "tensor.ndim"
      ],
      "execution_count": 20,
      "outputs": [
        {
          "output_type": "execute_result",
          "data": {
            "text/plain": [
              "3"
            ]
          },
          "metadata": {},
          "execution_count": 20
        }
      ]
    },
    {
      "cell_type": "code",
      "source": [
        "# Here it gets an upgrade - \n",
        "# Now we need more elements to reach a data point - \n",
        "# Which 1 of the 2 sub-arrays\n",
        "# Which stack in the sub-array\n",
        "# Which position in the stack!"
      ],
      "metadata": {
        "id": "KhiuCRb_c5TW"
      },
      "execution_count": null,
      "outputs": []
    },
    {
      "cell_type": "markdown",
      "metadata": {
        "id": "0G8FSY9qpABA"
      },
      "source": [
        "Checkpoint - \n",
        "\n",
        "* Scalar - Single number (just magnitude)\n",
        "* Vector - Number with a direction (Force and Direction in which force is applied)\n",
        "* Matrix - 2-Dimensional array of numbers\n",
        "* Tensor - n-Dimensional array of numbers"
      ]
    },
    {
      "cell_type": "markdown",
      "metadata": {
        "id": "Wb8wHZE8p60K"
      },
      "source": [
        "Let's create tensors using `tf.Variable`"
      ]
    },
    {
      "cell_type": "code",
      "metadata": {
        "colab": {
          "base_uri": "https://localhost:8080/"
        },
        "id": "vphT3NDIqRpw",
        "outputId": "b8adb733-d852-4b7a-f64b-6bdc60c4303d"
      },
      "source": [
        "# Let's create 2 tensors - using tf.Variable and tf.constant. Notice the difference in the output\n",
        "mutable_tensor = tf.Variable([10, 8])\n",
        "immutable_tensor = tf.constant([10, 8])\n",
        "\n",
        "mutable_tensor, immutable_tensor"
      ],
      "execution_count": 21,
      "outputs": [
        {
          "output_type": "execute_result",
          "data": {
            "text/plain": [
              "(<tf.Variable 'Variable:0' shape=(2,) dtype=int32, numpy=array([10,  8], dtype=int32)>,\n",
              " <tf.Tensor: shape=(2,), dtype=int32, numpy=array([10,  8], dtype=int32)>)"
            ]
          },
          "metadata": {},
          "execution_count": 21
        }
      ]
    },
    {
      "cell_type": "code",
      "metadata": {
        "colab": {
          "base_uri": "https://localhost:8080/"
        },
        "id": "dw6PlsfGrUj2",
        "outputId": "91d7bb01-93d6-4afc-eca0-27c0fa612bf5"
      },
      "source": [
        "# How to update the tensor?\n",
        "# Usual index and assign like \"tensor[0]=9\" doesn't work, we have a method - assign()\n",
        "\n",
        "mutable_tensor[0].assign(1)\n",
        "mutable_tensor"
      ],
      "execution_count": 22,
      "outputs": [
        {
          "output_type": "execute_result",
          "data": {
            "text/plain": [
              "<tf.Variable 'Variable:0' shape=(2,) dtype=int32, numpy=array([1, 8], dtype=int32)>"
            ]
          },
          "metadata": {},
          "execution_count": 22
        }
      ]
    },
    {
      "cell_type": "code",
      "metadata": {
        "id": "ZfmEmljMrwxl"
      },
      "source": [
        "# Above code, obviously won't work with tf.constant"
      ],
      "execution_count": null,
      "outputs": []
    },
    {
      "cell_type": "markdown",
      "metadata": {
        "id": "ULJ5S3wNr2YM"
      },
      "source": [
        "Create Random tensors - we'll need this a lot.\n",
        "\n",
        "In practice, this is used in for example in creating weight array for the neural network with random numbers"
      ]
    },
    {
      "cell_type": "code",
      "metadata": {
        "colab": {
          "base_uri": "https://localhost:8080/"
        },
        "id": "wRwO_W34s7yU",
        "outputId": "b8bf3bdd-f1aa-495b-922b-fd2bff9e01bf"
      },
      "source": [
        "# This creates a \"generator\" object - we initialize the generator object with seed for reproducibility\n",
        "g = tf.random.Generator.from_seed(42)\n",
        "\n",
        "# Next, using the \"generator\" object created above, create a random tensor whose elements are distributed normally\n",
        "rnd_tensor = g.normal(shape=[3,4])\n",
        "\n",
        "rnd_tensor, rnd_tensor.ndim"
      ],
      "execution_count": 24,
      "outputs": [
        {
          "output_type": "execute_result",
          "data": {
            "text/plain": [
              "(<tf.Tensor: shape=(3, 4), dtype=float32, numpy=\n",
              " array([[-0.7565803 , -0.06854702,  0.07595026, -1.2573844 ],\n",
              "        [-0.23193763, -1.8107855 ,  0.09988727, -0.50998646],\n",
              "        [-0.7535805 , -0.57166284,  0.1480774 , -0.23362993]],\n",
              "       dtype=float32)>, 2)"
            ]
          },
          "metadata": {},
          "execution_count": 24
        }
      ]
    },
    {
      "cell_type": "code",
      "metadata": {
        "id": "tLOW_3cMt_x2"
      },
      "source": [
        "# Won't lie, but that was AWESOME!!"
      ],
      "execution_count": null,
      "outputs": []
    },
    {
      "cell_type": "code",
      "metadata": {
        "colab": {
          "base_uri": "https://localhost:8080/"
        },
        "id": "Hw12YNgBuDL3",
        "outputId": "d36cf999-6a87-4b8c-fc97-c7f24ecce465"
      },
      "source": [
        "# Lastly, let's test the seed!\n",
        "g = tf.random.Generator.from_seed(42)\n",
        "random_tensor_1 = g.normal(shape=[3,4])\n",
        "random_tensor_2 = g.normal(shape=[3,4])\n",
        "\n",
        "random_tensor_1, random_tensor_2, random_tensor_1 == random_tensor_2"
      ],
      "execution_count": 25,
      "outputs": [
        {
          "output_type": "execute_result",
          "data": {
            "text/plain": [
              "(<tf.Tensor: shape=(3, 4), dtype=float32, numpy=\n",
              " array([[-0.7565803 , -0.06854702,  0.07595026, -1.2573844 ],\n",
              "        [-0.23193763, -1.8107855 ,  0.09988727, -0.50998646],\n",
              "        [-0.7535805 , -0.57166284,  0.1480774 , -0.23362993]],\n",
              "       dtype=float32)>, <tf.Tensor: shape=(3, 4), dtype=float32, numpy=\n",
              " array([[ 1.2866228 , -0.714756  , -0.1019548 ,  0.3831789 ],\n",
              "        [-0.31881508, -0.3712327 , -0.29559934,  0.321117  ],\n",
              "        [ 1.0777321 ,  0.23485184,  0.25318494,  0.36563298]],\n",
              "       dtype=float32)>, <tf.Tensor: shape=(3, 4), dtype=bool, numpy=\n",
              " array([[False, False, False, False],\n",
              "        [False, False, False, False],\n",
              "        [False, False, False, False]])>)"
            ]
          },
          "metadata": {},
          "execution_count": 25
        }
      ]
    },
    {
      "cell_type": "code",
      "metadata": {
        "id": "-PJALm6JvIMk"
      },
      "source": [
        "# Above shows that TF doesn't have 1 matrix per seed (WOWWW, discovery!!!)"
      ],
      "execution_count": null,
      "outputs": []
    },
    {
      "cell_type": "code",
      "metadata": {
        "colab": {
          "base_uri": "https://localhost:8080/"
        },
        "id": "rVNm8XWMvWWI",
        "outputId": "6792652a-fb25-4480-9ebd-bd6a4a1b782c"
      },
      "source": [
        "# Try something that makes sense!!\n",
        "g1 = tf.random.Generator.from_seed(42)\n",
        "random_tensor_1 = g1.normal(shape=[3,4])\n",
        "\n",
        "g2 = tf.random.Generator.from_seed(42)\n",
        "random_tensor_2 = g2.normal(shape=[3,4])\n",
        "\n",
        "random_tensor_1, random_tensor_2, random_tensor_1 == random_tensor_2"
      ],
      "execution_count": 26,
      "outputs": [
        {
          "output_type": "execute_result",
          "data": {
            "text/plain": [
              "(<tf.Tensor: shape=(3, 4), dtype=float32, numpy=\n",
              " array([[-0.7565803 , -0.06854702,  0.07595026, -1.2573844 ],\n",
              "        [-0.23193763, -1.8107855 ,  0.09988727, -0.50998646],\n",
              "        [-0.7535805 , -0.57166284,  0.1480774 , -0.23362993]],\n",
              "       dtype=float32)>, <tf.Tensor: shape=(3, 4), dtype=float32, numpy=\n",
              " array([[-0.7565803 , -0.06854702,  0.07595026, -1.2573844 ],\n",
              "        [-0.23193763, -1.8107855 ,  0.09988727, -0.50998646],\n",
              "        [-0.7535805 , -0.57166284,  0.1480774 , -0.23362993]],\n",
              "       dtype=float32)>, <tf.Tensor: shape=(3, 4), dtype=bool, numpy=\n",
              " array([[ True,  True,  True,  True],\n",
              "        [ True,  True,  True,  True],\n",
              "        [ True,  True,  True,  True]])>)"
            ]
          },
          "metadata": {},
          "execution_count": 26
        }
      ]
    },
    {
      "cell_type": "code",
      "metadata": {
        "id": "vWTgyh_JvgsG"
      },
      "source": [
        "# Yeah, thought so!!"
      ],
      "execution_count": null,
      "outputs": []
    },
    {
      "cell_type": "markdown",
      "metadata": {
        "id": "EDUft_9sviwo"
      },
      "source": [
        "### Shuffle tensors\n",
        "\n",
        "It's a good idea to shuffle the input data set in order to provide random order of the classes (incase of Classifications) and not bombarding the model with same class over and over"
      ]
    },
    {
      "cell_type": "code",
      "metadata": {
        "colab": {
          "base_uri": "https://localhost:8080/"
        },
        "id": "n1ccLn82wHIS",
        "outputId": "92bb60b9-a503-410b-bd43-e1841f0c3aee"
      },
      "source": [
        "actual_tensor = tf.constant([[1,2],\n",
        "                            [3,4],\n",
        "                            [5,6],\n",
        "                            [7,8]])\n",
        "\n",
        "# Shuffle the tensor\n",
        "tf.random.shuffle(actual_tensor)"
      ],
      "execution_count": 27,
      "outputs": [
        {
          "output_type": "execute_result",
          "data": {
            "text/plain": [
              "<tf.Tensor: shape=(4, 2), dtype=int32, numpy=\n",
              "array([[5, 6],\n",
              "       [7, 8],\n",
              "       [1, 2],\n",
              "       [3, 4]], dtype=int32)>"
            ]
          },
          "metadata": {},
          "execution_count": 27
        }
      ]
    },
    {
      "cell_type": "markdown",
      "metadata": {
        "id": "XWYxqhpuxBmr"
      },
      "source": [
        "Other ways to create a tensor"
      ]
    },
    {
      "cell_type": "code",
      "metadata": {
        "colab": {
          "base_uri": "https://localhost:8080/"
        },
        "id": "K7ogFPggyETr",
        "outputId": "3d5878fb-9e22-426c-ebd8-48286e0ecdb1"
      },
      "source": [
        "# create an array of all 1s . Pass dtype parameter to convert float32 to int\n",
        "tf.ones(shape=[3,4])"
      ],
      "execution_count": 28,
      "outputs": [
        {
          "output_type": "execute_result",
          "data": {
            "text/plain": [
              "<tf.Tensor: shape=(3, 4), dtype=float32, numpy=\n",
              "array([[1., 1., 1., 1.],\n",
              "       [1., 1., 1., 1.],\n",
              "       [1., 1., 1., 1.]], dtype=float32)>"
            ]
          },
          "metadata": {},
          "execution_count": 28
        }
      ]
    },
    {
      "cell_type": "code",
      "metadata": {
        "colab": {
          "base_uri": "https://localhost:8080/"
        },
        "id": "SRsBz59XyHKT",
        "outputId": "8838d15f-7c9b-4be6-adc9-2553f85add9a"
      },
      "source": [
        "# create an array of all 0s\n",
        "tf.zeros(shape=[4,5])"
      ],
      "execution_count": 29,
      "outputs": [
        {
          "output_type": "execute_result",
          "data": {
            "text/plain": [
              "<tf.Tensor: shape=(4, 5), dtype=float32, numpy=\n",
              "array([[0., 0., 0., 0., 0.],\n",
              "       [0., 0., 0., 0., 0.],\n",
              "       [0., 0., 0., 0., 0.],\n",
              "       [0., 0., 0., 0., 0.]], dtype=float32)>"
            ]
          },
          "metadata": {},
          "execution_count": 29
        }
      ]
    },
    {
      "cell_type": "markdown",
      "metadata": {
        "id": "x2mkSk6SyJGA"
      },
      "source": [
        "### Converting numpy arrays into tensors. \n",
        "Main Difference between numpy arrays and TF tensors is that tensors can be run on GPU for faster numerical processing"
      ]
    },
    {
      "cell_type": "code",
      "metadata": {
        "colab": {
          "base_uri": "https://localhost:8080/"
        },
        "id": "QqGYw3UKyuNp",
        "outputId": "d6ad530b-34c7-4474-90c0-4a18b2a1d368"
      },
      "source": [
        "import numpy as np\n",
        "\n",
        "numpy_A = np.arange(1, 25)\n",
        "numpy_A"
      ],
      "execution_count": 30,
      "outputs": [
        {
          "output_type": "execute_result",
          "data": {
            "text/plain": [
              "array([ 1,  2,  3,  4,  5,  6,  7,  8,  9, 10, 11, 12, 13, 14, 15, 16, 17,\n",
              "       18, 19, 20, 21, 22, 23, 24])"
            ]
          },
          "metadata": {},
          "execution_count": 30
        }
      ]
    },
    {
      "cell_type": "code",
      "metadata": {
        "colab": {
          "base_uri": "https://localhost:8080/"
        },
        "id": "OB6IjWxszJFx",
        "outputId": "20d15e56-dfa1-4b43-b771-47f899aa9cf0"
      },
      "source": [
        "# Create the tensor from the numpy array as-is\n",
        "as_is_shape = tf.constant(numpy_A)\n",
        "\n",
        "# Create the tensor with custom shape\n",
        "# Shape has to comply with the number of elements aXbXcXd....\n",
        "custom_shape = tf.constant(numpy_A, shape = [3, 8])\n",
        "\n",
        "as_is_shape, custom_shape"
      ],
      "execution_count": 31,
      "outputs": [
        {
          "output_type": "execute_result",
          "data": {
            "text/plain": [
              "(<tf.Tensor: shape=(24,), dtype=int64, numpy=\n",
              " array([ 1,  2,  3,  4,  5,  6,  7,  8,  9, 10, 11, 12, 13, 14, 15, 16, 17,\n",
              "        18, 19, 20, 21, 22, 23, 24])>,\n",
              " <tf.Tensor: shape=(3, 8), dtype=int64, numpy=\n",
              " array([[ 1,  2,  3,  4,  5,  6,  7,  8],\n",
              "        [ 9, 10, 11, 12, 13, 14, 15, 16],\n",
              "        [17, 18, 19, 20, 21, 22, 23, 24]])>)"
            ]
          },
          "metadata": {},
          "execution_count": 31
        }
      ]
    },
    {
      "cell_type": "code",
      "source": [
        "# Other ways\n",
        "tensor5 = tf.constant(np.array([1,2,3,4,5,6]))\n",
        "np_array = np.array(tensor5)\n",
        "other_way_to_get_np_array = tensor5.numpy()\n",
        "\n",
        "type(tensor5), type(np_array), type(other_way_to_get_np_array)"
      ],
      "metadata": {
        "colab": {
          "base_uri": "https://localhost:8080/"
        },
        "id": "QXtObl2ZoikO",
        "outputId": "29371000-fd60-456e-bf82-8f90ace761eb"
      },
      "execution_count": 56,
      "outputs": [
        {
          "output_type": "execute_result",
          "data": {
            "text/plain": [
              "(tensorflow.python.framework.ops.EagerTensor, numpy.ndarray, numpy.ndarray)"
            ]
          },
          "metadata": {},
          "execution_count": 56
        }
      ]
    },
    {
      "cell_type": "code",
      "metadata": {
        "id": "UktQe-qjzcTX"
      },
      "source": [
        "#### Looks like and for obvious reasons, TF and numpy are very compatible. We'll keep pushing this to limits :D"
      ],
      "execution_count": null,
      "outputs": []
    },
    {
      "cell_type": "markdown",
      "metadata": {
        "id": "XZrJgL3mxnaq"
      },
      "source": [
        "## Getting information from tensors\n",
        "\n",
        "#### But exactly what info??\n",
        "\n",
        "* Shape\n",
        "* Rank\n",
        "* Axis\n",
        "* Size"
      ]
    },
    {
      "cell_type": "code",
      "metadata": {
        "colab": {
          "base_uri": "https://localhost:8080/"
        },
        "id": "-NsY9sHPyrL_",
        "outputId": "b3f0330a-b829-4f7f-8c24-4c15562de5e0"
      },
      "source": [
        "# Let's create a 4-D tensor\n",
        "\n",
        "rank_4_tensor = tf.zeros(shape=[2,3,4,5])\n",
        "rank_4_tensor"
      ],
      "execution_count": 32,
      "outputs": [
        {
          "output_type": "execute_result",
          "data": {
            "text/plain": [
              "<tf.Tensor: shape=(2, 3, 4, 5), dtype=float32, numpy=\n",
              "array([[[[0., 0., 0., 0., 0.],\n",
              "         [0., 0., 0., 0., 0.],\n",
              "         [0., 0., 0., 0., 0.],\n",
              "         [0., 0., 0., 0., 0.]],\n",
              "\n",
              "        [[0., 0., 0., 0., 0.],\n",
              "         [0., 0., 0., 0., 0.],\n",
              "         [0., 0., 0., 0., 0.],\n",
              "         [0., 0., 0., 0., 0.]],\n",
              "\n",
              "        [[0., 0., 0., 0., 0.],\n",
              "         [0., 0., 0., 0., 0.],\n",
              "         [0., 0., 0., 0., 0.],\n",
              "         [0., 0., 0., 0., 0.]]],\n",
              "\n",
              "\n",
              "       [[[0., 0., 0., 0., 0.],\n",
              "         [0., 0., 0., 0., 0.],\n",
              "         [0., 0., 0., 0., 0.],\n",
              "         [0., 0., 0., 0., 0.]],\n",
              "\n",
              "        [[0., 0., 0., 0., 0.],\n",
              "         [0., 0., 0., 0., 0.],\n",
              "         [0., 0., 0., 0., 0.],\n",
              "         [0., 0., 0., 0., 0.]],\n",
              "\n",
              "        [[0., 0., 0., 0., 0.],\n",
              "         [0., 0., 0., 0., 0.],\n",
              "         [0., 0., 0., 0., 0.],\n",
              "         [0., 0., 0., 0., 0.]]]], dtype=float32)>"
            ]
          },
          "metadata": {},
          "execution_count": 32
        }
      ]
    },
    {
      "cell_type": "code",
      "metadata": {
        "colab": {
          "base_uri": "https://localhost:8080/"
        },
        "id": "uvHc_pkmzhmW",
        "outputId": "d32b49e3-e863-4492-fddc-dfd9e0b11db8"
      },
      "source": [
        "# We can use list-like, pandas-like indexing on these tensors\n",
        "\n",
        "rank_4_tensor[0][0]"
      ],
      "execution_count": 33,
      "outputs": [
        {
          "output_type": "execute_result",
          "data": {
            "text/plain": [
              "<tf.Tensor: shape=(4, 5), dtype=float32, numpy=\n",
              "array([[0., 0., 0., 0., 0.],\n",
              "       [0., 0., 0., 0., 0.],\n",
              "       [0., 0., 0., 0., 0.],\n",
              "       [0., 0., 0., 0., 0.]], dtype=float32)>"
            ]
          },
          "metadata": {},
          "execution_count": 33
        }
      ]
    },
    {
      "cell_type": "code",
      "metadata": {
        "colab": {
          "base_uri": "https://localhost:8080/"
        },
        "id": "Z16yCZcv0Xfk",
        "outputId": "01d7b47d-5d03-4289-9790-d6abef035668"
      },
      "source": [
        "print(\"tensor shape :\", rank_4_tensor.shape)\n",
        "print(\"tensor dimensions :\", rank_4_tensor.ndim)\n",
        "print(\"tensor size :\", tf.size(rank_4_tensor))\n",
        "print(\"tensor data type : \", rank_4_tensor.dtype)"
      ],
      "execution_count": 34,
      "outputs": [
        {
          "output_type": "stream",
          "name": "stdout",
          "text": [
            "tensor shape : (2, 3, 4, 5)\n",
            "tensor dimensions : 4\n",
            "tensor size : tf.Tensor(120, shape=(), dtype=int32)\n",
            "tensor data type :  <dtype: 'float32'>\n"
          ]
        }
      ]
    },
    {
      "cell_type": "code",
      "metadata": {
        "colab": {
          "base_uri": "https://localhost:8080/"
        },
        "id": "Rwj_IPHn0pI4",
        "outputId": "393af21f-c12c-4a96-fd93-a8b8db27550c"
      },
      "source": [
        "# tensor shape is NOT a tuple!\n",
        "# tf.size is itself a tensor\n",
        "\n",
        "type(rank_4_tensor.shape), type(rank_4_tensor.ndim), type(tf.size(rank_4_tensor))"
      ],
      "execution_count": 35,
      "outputs": [
        {
          "output_type": "execute_result",
          "data": {
            "text/plain": [
              "(tensorflow.python.framework.tensor_shape.TensorShape,\n",
              " int,\n",
              " tensorflow.python.framework.ops.EagerTensor)"
            ]
          },
          "metadata": {},
          "execution_count": 35
        }
      ]
    },
    {
      "cell_type": "markdown",
      "metadata": {
        "id": "lDNKiI2D03pz"
      },
      "source": [
        "### Indexing tensors"
      ]
    },
    {
      "cell_type": "code",
      "metadata": {
        "colab": {
          "base_uri": "https://localhost:8080/"
        },
        "id": "gqtoioLO2MYJ",
        "outputId": "40efc881-810d-4520-9eec-2175684685e6"
      },
      "source": [
        "# Let's create a rank 3 normal-random tensor \n",
        "\n",
        "g = tf.random.Generator.from_seed(42)\n",
        "\n",
        "rank_3_tensor = g.normal(shape = [2,3,4])\n",
        "rank_3_tensor"
      ],
      "execution_count": 36,
      "outputs": [
        {
          "output_type": "execute_result",
          "data": {
            "text/plain": [
              "<tf.Tensor: shape=(2, 3, 4), dtype=float32, numpy=\n",
              "array([[[-0.7565803 , -0.06854702,  0.07595026, -1.2573844 ],\n",
              "        [-0.23193763, -1.8107855 ,  0.09988727, -0.50998646],\n",
              "        [-0.7535805 , -0.57166284,  0.1480774 , -0.23362993]],\n",
              "\n",
              "       [[-0.3522796 ,  0.40621263, -1.0523509 ,  1.2054597 ],\n",
              "        [ 1.6874489 , -0.4462975 , -2.3410842 ,  0.99009085],\n",
              "        [-0.0876323 , -0.635568  , -0.6161736 , -1.9441465 ]]],\n",
              "      dtype=float32)>"
            ]
          },
          "metadata": {},
          "execution_count": 36
        }
      ]
    },
    {
      "cell_type": "code",
      "metadata": {
        "colab": {
          "base_uri": "https://localhost:8080/"
        },
        "id": "bC5AfCZq3Kc3",
        "outputId": "7523ecc2-72f7-4aa8-d6cb-10389ef22198"
      },
      "source": [
        "# Get first 2 elements of every dimension\n",
        "\n",
        "rank_3_tensor[:2, :2, :2]"
      ],
      "execution_count": 37,
      "outputs": [
        {
          "output_type": "execute_result",
          "data": {
            "text/plain": [
              "<tf.Tensor: shape=(2, 2, 2), dtype=float32, numpy=\n",
              "array([[[-0.7565803 , -0.06854702],\n",
              "        [-0.23193763, -1.8107855 ]],\n",
              "\n",
              "       [[-0.3522796 ,  0.40621263],\n",
              "        [ 1.6874489 , -0.4462975 ]]], dtype=float32)>"
            ]
          },
          "metadata": {},
          "execution_count": 37
        }
      ]
    },
    {
      "cell_type": "code",
      "metadata": {
        "colab": {
          "base_uri": "https://localhost:8080/"
        },
        "id": "RQuDoxl83gg6",
        "outputId": "c3609693-7a26-4898-c5cc-5cb670430b27"
      },
      "source": [
        "# Get all elements from each index except the final\n",
        "\n",
        "rank_3_tensor[:-1, :-1, :-1]"
      ],
      "execution_count": 38,
      "outputs": [
        {
          "output_type": "execute_result",
          "data": {
            "text/plain": [
              "<tf.Tensor: shape=(1, 2, 3), dtype=float32, numpy=\n",
              "array([[[-0.7565803 , -0.06854702,  0.07595026],\n",
              "        [-0.23193763, -1.8107855 ,  0.09988727]]], dtype=float32)>"
            ]
          },
          "metadata": {},
          "execution_count": 38
        }
      ]
    },
    {
      "cell_type": "markdown",
      "metadata": {
        "id": "dVA6NNnC30R9"
      },
      "source": [
        "## Manipulating tensors"
      ]
    },
    {
      "cell_type": "code",
      "metadata": {
        "colab": {
          "base_uri": "https://localhost:8080/"
        },
        "id": "XFONYQa85NP7",
        "outputId": "203dbb2d-9d30-43c4-e899-41cc701a5437"
      },
      "source": [
        "# Basic operation - +, -, *, /\n",
        "\n",
        "tensor = tf.constant([[10,2], [2,6]])\n",
        "tensor\n",
        "\n",
        "\n",
        "tensor2 = tensor + 10\n",
        "tensor, tensor2 # Addition is not inplace by default"
      ],
      "execution_count": 39,
      "outputs": [
        {
          "output_type": "execute_result",
          "data": {
            "text/plain": [
              "(<tf.Tensor: shape=(2, 2), dtype=int32, numpy=\n",
              " array([[10,  2],\n",
              "        [ 2,  6]], dtype=int32)>, <tf.Tensor: shape=(2, 2), dtype=int32, numpy=\n",
              " array([[20, 12],\n",
              "        [12, 16]], dtype=int32)>)"
            ]
          },
          "metadata": {},
          "execution_count": 39
        }
      ]
    },
    {
      "cell_type": "code",
      "metadata": {
        "colab": {
          "base_uri": "https://localhost:8080/"
        },
        "id": "SmyKBPLO5uMw",
        "outputId": "bbad8f64-b10f-4120-99d4-0e05df730539"
      },
      "source": [
        "tensor3 = tensor * 2\n",
        "\n",
        "tensor, tensor3"
      ],
      "execution_count": 40,
      "outputs": [
        {
          "output_type": "execute_result",
          "data": {
            "text/plain": [
              "(<tf.Tensor: shape=(2, 2), dtype=int32, numpy=\n",
              " array([[10,  2],\n",
              "        [ 2,  6]], dtype=int32)>, <tf.Tensor: shape=(2, 2), dtype=int32, numpy=\n",
              " array([[20,  4],\n",
              "        [ 4, 12]], dtype=int32)>)"
            ]
          },
          "metadata": {},
          "execution_count": 40
        }
      ]
    },
    {
      "cell_type": "code",
      "metadata": {
        "colab": {
          "base_uri": "https://localhost:8080/"
        },
        "id": "d8wFNsm-51_L",
        "outputId": "a87ad121-4387-453f-ec7d-eeaf64787490"
      },
      "source": [
        "# tensorflow has built-ins for basics ops\n",
        "tensor4 = tf.multiply(tensor, 10)\n",
        "tensor, tensor4 # Still, not inplace by default"
      ],
      "execution_count": 41,
      "outputs": [
        {
          "output_type": "execute_result",
          "data": {
            "text/plain": [
              "(<tf.Tensor: shape=(2, 2), dtype=int32, numpy=\n",
              " array([[10,  2],\n",
              "        [ 2,  6]], dtype=int32)>, <tf.Tensor: shape=(2, 2), dtype=int32, numpy=\n",
              " array([[100,  20],\n",
              "        [ 20,  60]], dtype=int32)>)"
            ]
          },
          "metadata": {},
          "execution_count": 41
        }
      ]
    },
    {
      "cell_type": "markdown",
      "metadata": {
        "id": "jLcCJTlq6XTC"
      },
      "source": [
        "### Matrix multiplication\n",
        "\n",
        "This is where tf wins, specially on GPUs"
      ]
    },
    {
      "cell_type": "code",
      "metadata": {
        "id": "WTB-HtoQ6elS"
      },
      "source": [
        "## This code will throw an error\n",
        "\n",
        "# tensor1 = g.normal(shape=[2,3])\n",
        "# tensor2 = g.normal(shape=[2,3])\n",
        "\n",
        "# tf.linalg.matmul(tensor1, tensor2)"
      ],
      "execution_count": null,
      "outputs": []
    },
    {
      "cell_type": "code",
      "metadata": {
        "colab": {
          "base_uri": "https://localhost:8080/"
        },
        "id": "ooQTojnJ7rIL",
        "outputId": "41a55353-03d0-4241-96c0-10191b4bed31"
      },
      "source": [
        "# Yeah, doesn't work that way. \n",
        "\n",
        "# For matrices A(n1 X m1) and B(n2 X m2) to be able to be multipliable, m1 = n2 has to hold true.\n",
        "# Output of A * B will be a matrix (or tensor) of the order of (n1 X m2)\n",
        "\n",
        "tensor3 = g.normal(shape=[2,3])\n",
        "tensor4 = g.normal(shape=[3,3])\n",
        "\n",
        "tf.linalg.matmul(tensor3, tensor4)"
      ],
      "execution_count": 42,
      "outputs": [
        {
          "output_type": "execute_result",
          "data": {
            "text/plain": [
              "<tf.Tensor: shape=(2, 3), dtype=float32, numpy=\n",
              "array([[ 0.43815386,  0.09491348,  0.226129  ],\n",
              "       [ 0.81179786, -0.5466475 , -1.0155652 ]], dtype=float32)>"
            ]
          },
          "metadata": {},
          "execution_count": 42
        }
      ]
    },
    {
      "cell_type": "code",
      "metadata": {
        "colab": {
          "base_uri": "https://localhost:8080/"
        },
        "id": "BFj0N5Wz-2wT",
        "outputId": "c149fa1d-c46b-4d40-f9bc-ab0513f75b8a"
      },
      "source": [
        "# Lastly, about transposing and reshaping\n",
        "\n",
        "tensor = g.normal(shape=[2,3])\n",
        "tensor"
      ],
      "execution_count": 43,
      "outputs": [
        {
          "output_type": "execute_result",
          "data": {
            "text/plain": [
              "<tf.Tensor: shape=(2, 3), dtype=float32, numpy=\n",
              "array([[ 0.47948825,  1.7463797 , -2.0002992 ],\n",
              "       [ 0.49801555, -0.16169557, -0.01246966]], dtype=float32)>"
            ]
          },
          "metadata": {},
          "execution_count": 43
        }
      ]
    },
    {
      "cell_type": "code",
      "metadata": {
        "colab": {
          "base_uri": "https://localhost:8080/"
        },
        "id": "P3UUexdYAzOW",
        "outputId": "81ec6d02-9e7e-4912-dd10-df482f86047f"
      },
      "source": [
        "tensor, tf.reshape(tensor, shape=[3,2]), tf.transpose(tensor)\n",
        "\n",
        "# Notice the difference in outputs for reshape and transpose. \n",
        "# Reshape just takes matrix elements and starts filling the new shape. Transpose, however, has a rule and it flips the axes"
      ],
      "execution_count": 44,
      "outputs": [
        {
          "output_type": "execute_result",
          "data": {
            "text/plain": [
              "(<tf.Tensor: shape=(2, 3), dtype=float32, numpy=\n",
              " array([[ 0.47948825,  1.7463797 , -2.0002992 ],\n",
              "        [ 0.49801555, -0.16169557, -0.01246966]], dtype=float32)>,\n",
              " <tf.Tensor: shape=(3, 2), dtype=float32, numpy=\n",
              " array([[ 0.47948825,  1.7463797 ],\n",
              "        [-2.0002992 ,  0.49801555],\n",
              "        [-0.16169557, -0.01246966]], dtype=float32)>,\n",
              " <tf.Tensor: shape=(3, 2), dtype=float32, numpy=\n",
              " array([[ 0.47948825,  0.49801555],\n",
              "        [ 1.7463797 , -0.16169557],\n",
              "        [-2.0002992 , -0.01246966]], dtype=float32)>)"
            ]
          },
          "metadata": {},
          "execution_count": 44
        }
      ]
    },
    {
      "cell_type": "markdown",
      "metadata": {
        "id": "OWouxlKhBP5j"
      },
      "source": [
        " Also look into `tf.tensordot`"
      ]
    },
    {
      "cell_type": "markdown",
      "source": [
        "Checkpoint - \n",
        "\n",
        "* Mutable (Variable), Immutable (Constant) tensors\n",
        "* Random, Shuffle, Zeros, Ones\n",
        "* Matrix multiplication"
      ],
      "metadata": {
        "id": "YWzy_ryMm04N"
      }
    },
    {
      "cell_type": "markdown",
      "metadata": {
        "id": "tRpmxiJ0CEHt"
      },
      "source": [
        "### Data Types"
      ]
    },
    {
      "cell_type": "code",
      "metadata": {
        "colab": {
          "base_uri": "https://localhost:8080/"
        },
        "id": "zU6Zg7bZAHSl",
        "outputId": "5aae6d04-debc-48ba-cfa7-3d3d64fb31f9"
      },
      "source": [
        "# Let's create a tensor with default data type\n",
        "\n",
        "tensor1 = tf.constant([[1,2] , [3,4]])\n",
        "tensor1, tensor1.dtype"
      ],
      "execution_count": 45,
      "outputs": [
        {
          "output_type": "execute_result",
          "data": {
            "text/plain": [
              "(<tf.Tensor: shape=(2, 2), dtype=int32, numpy=\n",
              " array([[1, 2],\n",
              "        [3, 4]], dtype=int32)>, tf.int32)"
            ]
          },
          "metadata": {},
          "execution_count": 45
        }
      ]
    },
    {
      "cell_type": "code",
      "metadata": {
        "colab": {
          "base_uri": "https://localhost:8080/"
        },
        "id": "eX8HANxvAh9E",
        "outputId": "833b6c49-8f9c-4905-ac5b-d0ce1ca53fc2"
      },
      "source": [
        "# Default is 32-bit, whether float32 or int32. But 16-bit takes lesser memory and can be faster to process as well\n",
        "\n",
        "tensor2 = tf.cast(tensor1, dtype = 'int16')\n",
        "tensor2, tensor2.dtype"
      ],
      "execution_count": 46,
      "outputs": [
        {
          "output_type": "execute_result",
          "data": {
            "text/plain": [
              "(<tf.Tensor: shape=(2, 2), dtype=int16, numpy=\n",
              " array([[1, 2],\n",
              "        [3, 4]], dtype=int16)>, tf.int16)"
            ]
          },
          "metadata": {},
          "execution_count": 46
        }
      ]
    },
    {
      "cell_type": "code",
      "metadata": {
        "colab": {
          "base_uri": "https://localhost:8080/"
        },
        "id": "XNjVh7D4BlEh",
        "outputId": "a8a1b67e-eb49-4122-931a-0a14f0eb2d94"
      },
      "source": [
        "# Quick question - Can Tensors hold string values? or dates? Let's try to create one\n",
        "\n",
        "str_tensor = tf.constant([['a', 'b'], \n",
        "                          ['c', 'd']])\n",
        "\n",
        "str_tensor, str_tensor.dtype\n",
        "\n",
        "# Absolutely, tensors can have any type of data type. How about mixed? - Nope\n",
        "############ Following code will throw error\n",
        "\n",
        "# mixed_tensor = tf.constant([['a', 1], \n",
        "#                           ['d', 1.234]])\n",
        "# mixed_tensor, mixed_tensor.dtype"
      ],
      "execution_count": 47,
      "outputs": [
        {
          "output_type": "execute_result",
          "data": {
            "text/plain": [
              "(<tf.Tensor: shape=(2, 2), dtype=string, numpy=\n",
              " array([[b'a', b'b'],\n",
              "        [b'c', b'd']], dtype=object)>, tf.string)"
            ]
          },
          "metadata": {},
          "execution_count": 47
        }
      ]
    },
    {
      "cell_type": "markdown",
      "metadata": {
        "id": "LCj94uIdC6eJ"
      },
      "source": [
        "It is not possible to create a tensor with mixed data types\n",
        "\n",
        "Reference Link - https://stackoverflow.com/questions/49824872/convert-python-sequence-with-multiple-datatypes-to-tensor"
      ]
    },
    {
      "cell_type": "markdown",
      "source": [
        "Checkpoint - \n",
        "\n",
        "* Tensor Data Types\n",
        "* Tensors can't hold multiple data types, but can hold int, float, str"
      ],
      "metadata": {
        "id": "OJkwpLeWnbap"
      }
    },
    {
      "cell_type": "markdown",
      "metadata": {
        "id": "yOqT0crsDE4h"
      },
      "source": [
        "### Tensor Aggregation\n",
        "\n",
        "* Absolute value of the tensor\n",
        "* Minimum value of the tensor\n",
        "* Maximum value of the tensor\n",
        "* Sum of the tensor\n",
        "* Mean of the tensor"
      ]
    },
    {
      "cell_type": "code",
      "metadata": {
        "colab": {
          "base_uri": "https://localhost:8080/"
        },
        "id": "OfSb9lAlDSF3",
        "outputId": "807f40e7-ddf1-459a-cb95-5a6bf6f4e1af"
      },
      "source": [
        "# Get the absolute values of a tensor\n",
        "\n",
        "tensor = tf.constant([1, -7])\n",
        "tensor, tf.abs(tensor)"
      ],
      "execution_count": 49,
      "outputs": [
        {
          "output_type": "execute_result",
          "data": {
            "text/plain": [
              "(<tf.Tensor: shape=(2,), dtype=int32, numpy=array([ 1, -7], dtype=int32)>,\n",
              " <tf.Tensor: shape=(2,), dtype=int32, numpy=array([1, 7], dtype=int32)>)"
            ]
          },
          "metadata": {},
          "execution_count": 49
        }
      ]
    },
    {
      "cell_type": "code",
      "metadata": {
        "colab": {
          "base_uri": "https://localhost:8080/"
        },
        "id": "CFSM1Bn0D8po",
        "outputId": "bb33bfcf-917d-470a-bafb-08a84eca3087"
      },
      "source": [
        "# tf.reduce_ seems a good choice\n",
        "tf.reduce_max(tensor), tf.reduce_min(tensor), tf.reduce_mean(tensor), tf.reduce_sum(tensor)"
      ],
      "execution_count": 50,
      "outputs": [
        {
          "output_type": "execute_result",
          "data": {
            "text/plain": [
              "(<tf.Tensor: shape=(), dtype=int32, numpy=1>,\n",
              " <tf.Tensor: shape=(), dtype=int32, numpy=-7>,\n",
              " <tf.Tensor: shape=(), dtype=int32, numpy=-3>,\n",
              " <tf.Tensor: shape=(), dtype=int32, numpy=-6>)"
            ]
          },
          "metadata": {},
          "execution_count": 50
        }
      ]
    },
    {
      "cell_type": "markdown",
      "metadata": {
        "id": "H-ryWO2dFEMH"
      },
      "source": [
        "### Finding positional max and min\n",
        "\n",
        "For e.g., finding max prob in an output tensor of class probabilities in a multi-class classification"
      ]
    },
    {
      "cell_type": "code",
      "metadata": {
        "colab": {
          "base_uri": "https://localhost:8080/"
        },
        "id": "RlWQFZ-5HKiV",
        "outputId": "6e7e505d-7946-47f8-c4bf-8f8f92db764d"
      },
      "source": [
        "# Create a new tensor for positional min and max\n",
        "\n",
        "index_tensor = tf.random.uniform(shape=[5,4])\n",
        "index_tensor, tf.argmax(index_tensor)\n",
        "\n",
        "# WHAT THE HELL!!!! It is giving the max along the column?"
      ],
      "execution_count": 51,
      "outputs": [
        {
          "output_type": "execute_result",
          "data": {
            "text/plain": [
              "(<tf.Tensor: shape=(5, 4), dtype=float32, numpy=\n",
              " array([[0.9555421 , 0.06692362, 0.23267794, 0.073125  ],\n",
              "        [0.3389094 , 0.8672894 , 0.58685064, 0.07037997],\n",
              "        [0.8507658 , 0.8746836 , 0.48133302, 0.01582861],\n",
              "        [0.34682715, 0.9559239 , 0.95546746, 0.27702546],\n",
              "        [0.672053  , 0.61518836, 0.3275069 , 0.2265321 ]], dtype=float32)>,\n",
              " <tf.Tensor: shape=(4,), dtype=int64, numpy=array([0, 3, 3, 3])>)"
            ]
          },
          "metadata": {},
          "execution_count": 51
        }
      ]
    },
    {
      "cell_type": "code",
      "metadata": {
        "colab": {
          "base_uri": "https://localhost:8080/"
        },
        "id": "BkCV7TKgIoFX",
        "outputId": "a971b221-03ec-44ff-b81f-b6623f2743e2"
      },
      "source": [
        "# What about an array\n",
        "index_tensor = tf.random.uniform(shape=[5])\n",
        "index_tensor, tf.argmax(index_tensor)\n",
        "\n",
        "# This is fine!"
      ],
      "execution_count": 52,
      "outputs": [
        {
          "output_type": "execute_result",
          "data": {
            "text/plain": [
              "(<tf.Tensor: shape=(5,), dtype=float32, numpy=\n",
              " array([0.91354775, 0.73500323, 0.587468  , 0.5236143 , 0.21951354],\n",
              "       dtype=float32)>, <tf.Tensor: shape=(), dtype=int64, numpy=0>)"
            ]
          },
          "metadata": {},
          "execution_count": 52
        }
      ]
    },
    {
      "cell_type": "code",
      "metadata": {
        "id": "07vx8QZnI3Xs"
      },
      "source": [
        "# Naturally, tf.argmin gets us the minimum"
      ],
      "execution_count": null,
      "outputs": []
    },
    {
      "cell_type": "markdown",
      "metadata": {
        "id": "EqeJqANUJQqB"
      },
      "source": [
        "### One-hot Encoding of Tensors"
      ]
    },
    {
      "cell_type": "code",
      "metadata": {
        "colab": {
          "base_uri": "https://localhost:8080/"
        },
        "id": "AD6gL-CoJwpc",
        "outputId": "fc1297f8-873b-4470-912b-19fba37ab7fd"
      },
      "source": [
        "# Takes only numeric inputs. For text, we need to use Keras on top of this\n",
        "\n",
        "labels = [1,2,3,4]\n",
        "\n",
        "tf.one_hot(labels, depth = 4)"
      ],
      "execution_count": 53,
      "outputs": [
        {
          "output_type": "execute_result",
          "data": {
            "text/plain": [
              "<tf.Tensor: shape=(4, 4), dtype=float32, numpy=\n",
              "array([[0., 1., 0., 0.],\n",
              "       [0., 0., 1., 0.],\n",
              "       [0., 0., 0., 1.],\n",
              "       [0., 0., 0., 0.]], dtype=float32)>"
            ]
          },
          "metadata": {},
          "execution_count": 53
        }
      ]
    },
    {
      "cell_type": "code",
      "metadata": {
        "colab": {
          "base_uri": "https://localhost:8080/"
        },
        "id": "6ouE7vlBMHSv",
        "outputId": "55fab9cc-e701-4887-b341-7a518b032bf6"
      },
      "source": [
        "### Square, Log and Root of tensors\n",
        "### Notice the cheeky delta :D\n",
        "tensor4 = tf.range(1, 20, delta=2)\n",
        "tensor4"
      ],
      "execution_count": 54,
      "outputs": [
        {
          "output_type": "execute_result",
          "data": {
            "text/plain": [
              "<tf.Tensor: shape=(10,), dtype=int32, numpy=array([ 1,  3,  5,  7,  9, 11, 13, 15, 17, 19], dtype=int32)>"
            ]
          },
          "metadata": {},
          "execution_count": 54
        }
      ]
    },
    {
      "cell_type": "code",
      "metadata": {
        "colab": {
          "base_uri": "https://localhost:8080/"
        },
        "id": "vU-rtmGPMs6_",
        "outputId": "1af32895-26dd-424c-f026-76bae7c72b94"
      },
      "source": [
        "# tf.sqrt doesn't take int32 as an input - use cast to convert to one of the allowed values\n",
        "\n",
        "tf.square(tensor4), tf.sqrt(tf.cast(tensor4, dtype=tf.float32)), tf.math.log(tf.cast(tensor4, dtype=tf.float32))"
      ],
      "execution_count": 55,
      "outputs": [
        {
          "output_type": "execute_result",
          "data": {
            "text/plain": [
              "(<tf.Tensor: shape=(10,), dtype=int32, numpy=array([  1,   9,  25,  49,  81, 121, 169, 225, 289, 361], dtype=int32)>,\n",
              " <tf.Tensor: shape=(10,), dtype=float32, numpy=\n",
              " array([0.99999994, 1.7320508 , 2.236068  , 2.6457512 , 2.9999998 ,\n",
              "        3.3166244 , 3.6055508 , 3.8729832 , 4.1231055 , 4.358899  ],\n",
              "       dtype=float32)>,\n",
              " <tf.Tensor: shape=(10,), dtype=float32, numpy=\n",
              " array([0.       , 1.0986123, 1.609438 , 1.9459102, 2.1972246, 2.3978953,\n",
              "        2.5649493, 2.7080503, 2.8332133, 2.944439 ], dtype=float32)>)"
            ]
          },
          "metadata": {},
          "execution_count": 55
        }
      ]
    },
    {
      "cell_type": "markdown",
      "metadata": {
        "id": "bpEVQEiwCM7E"
      },
      "source": [
        "Boy, that's a lot of TensorFlow code!!"
      ]
    }
  ]
}