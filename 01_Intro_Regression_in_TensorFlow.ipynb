{
  "nbformat": 4,
  "nbformat_minor": 0,
  "metadata": {
    "colab": {
      "name": "01_Intro_Regression_in_TensorFlow.ipynb",
      "provenance": [],
      "collapsed_sections": []
    },
    "kernelspec": {
      "name": "python3",
      "display_name": "Python 3"
    },
    "language_info": {
      "name": "python"
    }
  },
  "cells": [
    {
      "cell_type": "markdown",
      "metadata": {
        "id": "PB2A2dsmEPvs"
      },
      "source": [
        "\n",
        "## Introduction to Regression using Neural Networks in TensorFlow\n",
        "\n",
        "`Wiki` - In statistical modeling, \"Regression Analysis\" is a set of statistical processes for estimating the relationships between a dependent variable (often called the 'outcome variable') and one or more independent variables (often called 'predictors', 'covariates', or 'features').\n"
      ]
    },
    {
      "cell_type": "code",
      "metadata": {
        "colab": {
          "base_uri": "https://localhost:8080/"
        },
        "id": "z8wnxD6bRpnZ",
        "outputId": "6336c66d-1cf3-441c-81b2-218f706c20a7"
      },
      "source": [
        "# Import libraries\n",
        "\n",
        "import tensorflow as tf\n",
        "import numpy as np\n",
        "import matplotlib.pyplot as plt\n",
        "\n",
        "print(tf.__version__)"
      ],
      "execution_count": 1,
      "outputs": [
        {
          "output_type": "stream",
          "text": [
            "2.5.0\n"
          ],
          "name": "stdout"
        }
      ]
    },
    {
      "cell_type": "markdown",
      "metadata": {
        "id": "f1s7r0IjR5sS"
      },
      "source": [
        "#### How about creating some data yourself. Let's create X and y and get a feel of what exactly fitting a line looks like."
      ]
    },
    {
      "cell_type": "code",
      "metadata": {
        "colab": {
          "base_uri": "https://localhost:8080/",
          "height": 283
        },
        "id": "FFVd6iiJSVyk",
        "outputId": "5b804267-928f-4cb6-cf9a-c0d1ef819cca"
      },
      "source": [
        "# Create features\n",
        "X = np.array([-10, -8, -6, -4, -2, 0, 2, 4, 6, 8])\n",
        "\n",
        "# Create labels\n",
        "y = np.array([-18, -14, -10, -6, -2, 2, 6, 10, 14, 18])\n",
        "\n",
        "# Let's plot these!!\n",
        "plt.scatter(X, y)"
      ],
      "execution_count": 2,
      "outputs": [
        {
          "output_type": "execute_result",
          "data": {
            "text/plain": [
              "<matplotlib.collections.PathCollection at 0x7fa0ad53c190>"
            ]
          },
          "metadata": {
            "tags": []
          },
          "execution_count": 2
        },
        {
          "output_type": "display_data",
          "data": {
            "image/png": "[encoded data removed]",
            "text/plain": [
              "<Figure size 432x288 with 1 Axes>"
            ]
          },
          "metadata": {
            "tags": [],
            "needs_background": "light"
          }
        }
      ]
    },
    {
      "cell_type": "markdown",
      "metadata": {
        "id": "DJY-gGMcS0KJ"
      },
      "source": [
        "#### The above dataset is a perfect line. In fact, y = 2X+2 is the exact equation. If we need to 'predict' value for X=100, it's simply 202. It would be good candidate for cases where we DO NOT use Machine Learning. However, in real-life cases, the data won't be aligned perfectly to a curve (why should it always be a line) and hence Machine Learning comes into picture"
      ]
    },
    {
      "cell_type": "code",
      "metadata": {
        "colab": {
          "base_uri": "https://localhost:8080/"
        },
        "id": "s4tdlwtrUCPc",
        "outputId": "2c5bbeee-5c3e-4b50-e942-e2ceaa96e5c9"
      },
      "source": [
        "y == 2 * X + 2"
      ],
      "execution_count": 3,
      "outputs": [
        {
          "output_type": "execute_result",
          "data": {
            "text/plain": [
              "array([ True,  True,  True,  True,  True,  True,  True,  True,  True,\n",
              "        True])"
            ]
          },
          "metadata": {
            "tags": []
          },
          "execution_count": 3
        }
      ]
    },
    {
      "cell_type": "markdown",
      "metadata": {
        "id": "fHC4BXobUXLK"
      },
      "source": [
        "#### In this case, still if someone decides to create a model - Input Shape = [1], Output Shape = [1] (IN TENSOR TERMS, shape of numpy array will be 10!)"
      ]
    },
    {
      "cell_type": "markdown",
      "metadata": {
        "id": "WhiNO_D3UylT"
      },
      "source": [
        "### Steps in creating a Deep Learning model (or any Machine Learning model if we replace layers with other algorithm)\n",
        "\n",
        "\n",
        "* **Get the data** - Data prep\n",
        "* **Creating model architecture** - Define Input, Hidden and Output layers of the model\n",
        "* **Compile the model** - Define the loss function (tells the model how wrong it is in the current epoch). Define the optimizer (tells the model how to improve the patterns it is learning). Define Evaluation metrics (Metrics where we think model should be right/wrong)\n",
        "* **Fitting the model** - Letting the model find the patterns on the entire dataset\n",
        "    * Epochs - How many times the model will go over all of the training data\n",
        "* **Evaluate the model** - Evaluation of model performance on the metrics we have chosen\n",
        "* **Experimentation** - Improve model peformance through various experiments\n",
        "* **Save and use** - Save the model, use it for predictions\n",
        "\n",
        "\n",
        "Apply this workflow on above dataset"
      ]
    },
    {
      "cell_type": "code",
      "metadata": {
        "colab": {
          "base_uri": "https://localhost:8080/"
        },
        "id": "0uko5JKkXT3D",
        "outputId": "3fdcaa65-746c-412a-f81c-95152dfd9ff3"
      },
      "source": [
        "# Step 1 - Prepare the data\n",
        "\n",
        "X = tf.constant(X)\n",
        "y = tf.constant(y)\n",
        "\n",
        "X, y"
      ],
      "execution_count": 4,
      "outputs": [
        {
          "output_type": "execute_result",
          "data": {
            "text/plain": [
              "(<tf.Tensor: shape=(10,), dtype=int64, numpy=array([-10,  -8,  -6,  -4,  -2,   0,   2,   4,   6,   8])>,\n",
              " <tf.Tensor: shape=(10,), dtype=int64, numpy=array([-18, -14, -10,  -6,  -2,   2,   6,  10,  14,  18])>)"
            ]
          },
          "metadata": {
            "tags": []
          },
          "execution_count": 4
        }
      ]
    },
    {
      "cell_type": "code",
      "metadata": {
        "id": "VU8EqOWPY5bW"
      },
      "source": [
        "# Step 2 - Create model architecture\n",
        "\n",
        "# First, seeeeeeeed\n",
        "tf.random.set_seed(42)\n",
        "\n",
        "# Create a structure using Sequential API. This basically means, whatever input is inside it, TF will look at those sequentially\n",
        "model = tf.keras.Sequential(\n",
        "    [tf.keras.layers.Dense(1)] # 1 because input shape is 1\n",
        ")\n",
        "\n",
        "# Another way to create a sequential model - most of the doc follows this, although these are absolutely same\n",
        "model = tf.keras.Sequential()\n",
        "model.add(tf.keras.layers.Dense(1))"
      ],
      "execution_count": 5,
      "outputs": []
    },
    {
      "cell_type": "code",
      "metadata": {
        "id": "_HDaydNWZqvO"
      },
      "source": [
        "# Step 3 - Compile the model\n",
        "\n",
        "model.compile(loss = tf.keras.losses.mae, optimizer='adam', metrics=['mae'])"
      ],
      "execution_count": 6,
      "outputs": []
    },
    {
      "cell_type": "code",
      "metadata": {
        "colab": {
          "base_uri": "https://localhost:8080/"
        },
        "id": "qCH28IHVaIka",
        "outputId": "f34a6fce-6d3c-4476-dd86-e2c327738e55"
      },
      "source": [
        "# Step 4 - Fitting the model\n",
        "\n",
        "model.fit(X, y, epochs = 5) #Epochs is basically laps around the data"
      ],
      "execution_count": 7,
      "outputs": [
        {
          "output_type": "stream",
          "text": [
            "Epoch 1/5\n",
            "1/1 [==============================] - 0s 358ms/step - loss: 7.1497 - mae: 7.1497\n",
            "Epoch 2/5\n",
            "1/1 [==============================] - 0s 6ms/step - loss: 7.1447 - mae: 7.1447\n",
            "Epoch 3/5\n",
            "1/1 [==============================] - 0s 7ms/step - loss: 7.1397 - mae: 7.1397\n",
            "Epoch 4/5\n",
            "1/1 [==============================] - 0s 7ms/step - loss: 7.1347 - mae: 7.1347\n",
            "Epoch 5/5\n",
            "1/1 [==============================] - 0s 4ms/step - loss: 7.1297 - mae: 7.1297\n"
          ],
          "name": "stdout"
        },
        {
          "output_type": "execute_result",
          "data": {
            "text/plain": [
              "<tensorflow.python.keras.callbacks.History at 0x7fa0f4554690>"
            ]
          },
          "metadata": {
            "tags": []
          },
          "execution_count": 7
        }
      ]
    },
    {
      "cell_type": "code",
      "metadata": {
        "colab": {
          "base_uri": "https://localhost:8080/"
        },
        "id": "kqeX2iaOaKXR",
        "outputId": "7f445998-afeb-49e2-9329-a27b0efc29ce"
      },
      "source": [
        "# Step 5 - Evaluate the model\n",
        "\n",
        "model.evaluate(X, y)"
      ],
      "execution_count": 8,
      "outputs": [
        {
          "output_type": "stream",
          "text": [
            "1/1 [==============================] - 0s 119ms/step - loss: 7.1247 - mae: 7.1247\n"
          ],
          "name": "stdout"
        },
        {
          "output_type": "execute_result",
          "data": {
            "text/plain": [
              "[7.124701023101807, 7.124701023101807]"
            ]
          },
          "metadata": {
            "tags": []
          },
          "execution_count": 8
        }
      ]
    },
    {
      "cell_type": "code",
      "metadata": {
        "id": "h3o93IV7clK3"
      },
      "source": [
        "# LOOOOOOL. Let's do something before someone trynna save this model!!"
      ],
      "execution_count": 9,
      "outputs": []
    },
    {
      "cell_type": "code",
      "metadata": {
        "colab": {
          "base_uri": "https://localhost:8080/"
        },
        "id": "poKl4ygMct-3",
        "outputId": "bff6f63b-a030-4246-91e5-bc93d137f085"
      },
      "source": [
        "# Step 6 - Make predictions\n",
        "\n",
        "model.predict([10]) # Exact output --> 10 * 2 + 2 = 22"
      ],
      "execution_count": 10,
      "outputs": [
        {
          "output_type": "execute_result",
          "data": {
            "text/plain": [
              "array([[5.7505984]], dtype=float32)"
            ]
          },
          "metadata": {
            "tags": []
          },
          "execution_count": 10
        }
      ]
    },
    {
      "cell_type": "markdown",
      "metadata": {
        "id": "1J7sIDeBdyQ2"
      },
      "source": [
        "### Model performance improvement\n",
        "\n",
        "Before going into saving and re-using this model, let's try to improve this!\n",
        "\n",
        "Hyperparameter tuning - \n",
        "* **Architecture** - Increase/Decrease hidden layers and their neurons. Activation function in each layer\n",
        "* **Compilation** - Change optimization function, `learning rate`\n",
        "* **Fitting** - Increase/Decrease epochs, get more data"
      ]
    },
    {
      "cell_type": "code",
      "metadata": {
        "colab": {
          "base_uri": "https://localhost:8080/"
        },
        "id": "cYcqAwzIBTzH",
        "outputId": "74b89f40-dbd1-4b21-d669-b393f65ae4a6"
      },
      "source": [
        "# Experiment 1 - Add hidden layers\n",
        "\n",
        "# Create the model\n",
        "model_exp1 = tf.keras.Sequential()\n",
        "model_exp1.add(tf.keras.layers.Dense(100, activation = 'relu'))\n",
        "model_exp1.add(tf.keras.layers.Dense(100, activation = 'relu'))\n",
        "model_exp1.add(tf.keras.layers.Dense(100, activation = 'relu'))\n",
        "model_exp1.add(tf.keras.layers.Dense(1))\n",
        "\n",
        "# Compile the model\n",
        "model_exp1.compile(loss = tf.keras.losses.mae, optimizer='adam', metrics=['mae'])\n",
        "\n",
        "# Fit the model\n",
        "model_exp1.fit(X, y, epochs = 5) #Epochs is basically laps around the data\n",
        "\n",
        "# Evaluate the model\n",
        "print('Model Evaluation', model_exp1.evaluate(X, y))\n",
        "\n",
        "# Make predictions\n",
        "print('Predicted value', model_exp1.predict(tf.constant([10]))) # Exact output --> 10 * 2 + 2 = 22"
      ],
      "execution_count": 11,
      "outputs": [
        {
          "output_type": "stream",
          "text": [
            "Epoch 1/5\n",
            "1/1 [==============================] - 1s 506ms/step - loss: 9.9602 - mae: 9.9602\n",
            "Epoch 2/5\n",
            "1/1 [==============================] - 0s 7ms/step - loss: 9.7692 - mae: 9.7692\n",
            "Epoch 3/5\n",
            "1/1 [==============================] - 0s 6ms/step - loss: 9.5743 - mae: 9.5743\n",
            "Epoch 4/5\n",
            "1/1 [==============================] - 0s 6ms/step - loss: 9.3788 - mae: 9.3788\n",
            "Epoch 5/5\n",
            "1/1 [==============================] - 0s 5ms/step - loss: 9.1832 - mae: 9.1832\n",
            "1/1 [==============================] - 0s 111ms/step - loss: 8.9882 - mae: 8.9882\n",
            "Model Evaluation [8.988167762756348, 8.988167762756348]\n",
            "Predicted value [[0.84333867]]\n"
          ],
          "name": "stdout"
        }
      ]
    },
    {
      "cell_type": "code",
      "metadata": {
        "colab": {
          "base_uri": "https://localhost:8080/"
        },
        "id": "zgfSydqNDRv2",
        "outputId": "d38581f6-3153-435b-f453-b665ccce7723"
      },
      "source": [
        "# Experiment 1 - Increase number of epochs\n",
        "\n",
        "# Create the model\n",
        "model_exp2 = tf.keras.Sequential()\n",
        "model_exp2.add(tf.keras.layers.Dense(100, activation = 'relu'))\n",
        "model_exp2.add(tf.keras.layers.Dense(100, activation = 'relu'))\n",
        "model_exp2.add(tf.keras.layers.Dense(100, activation = 'relu'))\n",
        "model_exp2.add(tf.keras.layers.Dense(1))\n",
        "\n",
        "# Compile the model\n",
        "model_exp2.compile(loss = tf.keras.losses.mae, optimizer='adam', metrics=['mae'])\n",
        "\n",
        "# Fit the model\n",
        "model_exp2.fit(X, y, epochs = 30, verbose = False) #Epochs is basically laps around the data\n",
        "\n",
        "# Evaluate the model\n",
        "print('Model Evaluation', model_exp2.evaluate(X, y))\n",
        "\n",
        "# Make predictions\n",
        "print('Predicted value', model_exp2.predict(tf.constant([10]))) # Exact output --> 10 * 2 + 2 = 22"
      ],
      "execution_count": 12,
      "outputs": [
        {
          "output_type": "stream",
          "text": [
            "1/1 [==============================] - 0s 111ms/step - loss: 1.5423 - mae: 1.5423\n",
            "Model Evaluation [1.542271375656128, 1.542271375656128]\n",
            "Predicted value [[27.265654]]\n"
          ],
          "name": "stdout"
        }
      ]
    },
    {
      "cell_type": "code",
      "metadata": {
        "colab": {
          "base_uri": "https://localhost:8080/"
        },
        "id": "_u4s6kjwENQy",
        "outputId": "f0729b3d-e43d-412e-e220-90c1be82bb49"
      },
      "source": [
        "# Model Evaluation is an array of loss and metrics - here [loss, mae]. Both are same, since our loss metric is mae\n",
        "\n",
        "# A good idea whenever building a TensorFlow model is to look what the model summary is\n",
        "model_exp2.summary()"
      ],
      "execution_count": 13,
      "outputs": [
        {
          "output_type": "stream",
          "text": [
            "Model: \"sequential_3\"\n",
            "_________________________________________________________________\n",
            "Layer (type)                 Output Shape              Param #   \n",
            "=================================================================\n",
            "dense_6 (Dense)              (None, 100)               200       \n",
            "_________________________________________________________________\n",
            "dense_7 (Dense)              (None, 100)               10100     \n",
            "_________________________________________________________________\n",
            "dense_8 (Dense)              (None, 100)               10100     \n",
            "_________________________________________________________________\n",
            "dense_9 (Dense)              (None, 1)                 101       \n",
            "=================================================================\n",
            "Total params: 20,501\n",
            "Trainable params: 20,501\n",
            "Non-trainable params: 0\n",
            "_________________________________________________________________\n"
          ],
          "name": "stdout"
        }
      ]
    },
    {
      "cell_type": "markdown",
      "metadata": {
        "id": "9BFOn602ETkp"
      },
      "source": [
        "So it took us 30 epochs around 10 training examples, training and tweaking 20,501 parameters to get a good predictions.\n",
        "\n",
        "Talk about killing an ant with a tank !!\n",
        "\n",
        "One good idea in this case would have been to increase the learning rate. We see that initial epochs result in minimal learning. In such cases, learning rate could be very impactful.  \n",
        "\n",
        "One thing to note in experimentation is don't try to tweak all hyperparameters at once. Rather change 1, keep the rest same. This will help to judge the one parameter which is creating the most impact. Also, if you think a change is a good impact on the model, you can try to keep it included in all the experiments down the line."
      ]
    },
    {
      "cell_type": "markdown",
      "metadata": {
        "id": "kpx4zFUqE5qW"
      },
      "source": [
        "### The 3 Sets\n",
        "\n",
        "* **Training Set** - The model learns patterns from this dataset. Typically 70-80% of the data\n",
        "* **Validation Set** - The model tunes on this data. This data IS PASSED TO THE MODEL DURING TRAINING. Typically 10-20%\n",
        "* **Test Set** - The model is evaluated on this UNSEEN dataset. This data is not passed during training. Typically 10-20%|\n",
        "\n",
        "\n",
        "Let's expand our data, split in Train-Test set, build the model and evaluate it."
      ]
    },
    {
      "cell_type": "code",
      "metadata": {
        "colab": {
          "base_uri": "https://localhost:8080/"
        },
        "id": "Wd2hxfwAooKw",
        "outputId": "caaf9d7e-90a8-468a-e065-dd326c84c707"
      },
      "source": [
        "X = tf.range(-1000, 1000, 2)\n",
        "y = X * 2 + 2\n",
        "\n",
        "X.ndim, X.shape, y.ndim, y.shape"
      ],
      "execution_count": 14,
      "outputs": [
        {
          "output_type": "execute_result",
          "data": {
            "text/plain": [
              "(1, TensorShape([1000]), 1, TensorShape([1000]))"
            ]
          },
          "metadata": {
            "tags": []
          },
          "execution_count": 14
        }
      ]
    },
    {
      "cell_type": "markdown",
      "metadata": {
        "id": "QYFZf-DdppfP"
      },
      "source": [
        "So, Rank 1 tensors X and y, and we have 5000 data points available"
      ]
    },
    {
      "cell_type": "code",
      "metadata": {
        "colab": {
          "base_uri": "https://localhost:8080/",
          "height": 283
        },
        "id": "ErCbXh6Jpw-e",
        "outputId": "92d78371-e73f-4218-bae2-4210ed5d0ca0"
      },
      "source": [
        "plt.scatter(X, y)\n",
        "\n",
        "# This is expected"
      ],
      "execution_count": 15,
      "outputs": [
        {
          "output_type": "execute_result",
          "data": {
            "text/plain": [
              "<matplotlib.collections.PathCollection at 0x7fa0a7d9b810>"
            ]
          },
          "metadata": {
            "tags": []
          },
          "execution_count": 15
        },
        {
          "output_type": "display_data",
          "data": {
            "image/png": "[encoded data removed]",
            "text/plain": [
              "<Figure size 432x288 with 1 Axes>"
            ]
          },
          "metadata": {
            "tags": [],
            "needs_background": "light"
          }
        }
      ]
    },
    {
      "cell_type": "code",
      "metadata": {
        "colab": {
          "base_uri": "https://localhost:8080/",
          "height": 265
        },
        "id": "a3297afnp5Nb",
        "outputId": "52997b84-7c89-4fe0-c841-7333d5329a3d"
      },
      "source": [
        "# Although TensorFlow has better functions to do train-validation-test split, for our use case, we can simply use indexing\n",
        "\n",
        "# Fraction of test data we want. Train will naturally be 1-test_size\n",
        "test_size = 0.2\n",
        "\n",
        "# What amount of data we have?\n",
        "data_volume = len(X)\n",
        "\n",
        "\n",
        "# So, define train and test data. We can use shuffling, random sampling and stratified sampling according to the problem\n",
        "train_indices = int(data_volume * (1 - test_size))\n",
        "\n",
        "X_train, y_train = X[0:train_indices], y[0:train_indices]\n",
        "X_test, y_test = X[train_indices:], y[train_indices:]\n",
        "\n",
        "# Let's plot these\n",
        "# Training data\n",
        "plt.scatter(X_train, y_train, c = 'b', label = 'Training')\n",
        "\n",
        "# Testing data\n",
        "plt.scatter(X_test, y_test, c = 'r', label = 'Testing')\n",
        "\n",
        "# Show the output\n",
        "plt.show();"
      ],
      "execution_count": 16,
      "outputs": [
        {
          "output_type": "display_data",
          "data": {
            "image/png": "[encoded data removed]",
            "text/plain": [
              "<Figure size 432x288 with 1 Axes>"
            ]
          },
          "metadata": {
            "tags": [],
            "needs_background": "light"
          }
        }
      ]
    },
    {
      "cell_type": "code",
      "metadata": {
        "colab": {
          "base_uri": "https://localhost:8080/"
        },
        "id": "xSQvUq5Vuwrj",
        "outputId": "701e319e-db82-4f1b-b98c-b713dafd5b0a"
      },
      "source": [
        "#### NICE!!\n",
        "\n",
        "# Standard processes. Now, let's go into the modelling part\n",
        "\n",
        "# Step 1 - Create the model\n",
        "model = tf.keras.Sequential()\n",
        "model.add(tf.keras.layers.Dense(20, activation='relu'))\n",
        "model.add(tf.keras.layers.Dense(1))\n",
        "\n",
        "# Step 2 - Compile the model\n",
        "model.compile(loss = tf.keras.losses.mae,\n",
        "              optimizer = 'adam',\n",
        "              metrics = ['mae'])\n",
        "\n",
        "# Step 3 - Fitting the model\n",
        "model.fit(X_train, y_train, epochs=10, verbose = False)\n",
        "\n",
        "# Let's calculate trainable parameters - \n",
        "L1 = 20 + 20\n",
        "L2 = 20 * 20 + 20\n",
        "L3 = 20 + 1\n",
        "\n",
        "print(\"Total Trainable Parameters = \", L1 + L2 + L3)\n",
        "\n",
        "\n",
        "# And now that model's fit on the data, we can verify the above result using model.summary()\n",
        "model.summary() #### NICE!!\n"
      ],
      "execution_count": 17,
      "outputs": [
        {
          "output_type": "stream",
          "text": [
            "Total Trainable Parameters =  481\n",
            "Model: \"sequential_4\"\n",
            "_________________________________________________________________\n",
            "Layer (type)                 Output Shape              Param #   \n",
            "=================================================================\n",
            "dense_10 (Dense)             (32, 20)                  40        \n",
            "_________________________________________________________________\n",
            "dense_11 (Dense)             (32, 1)                   21        \n",
            "=================================================================\n",
            "Total params: 61\n",
            "Trainable params: 61\n",
            "Non-trainable params: 0\n",
            "_________________________________________________________________\n"
          ],
          "name": "stdout"
        }
      ]
    },
    {
      "cell_type": "markdown",
      "metadata": {
        "id": "qWe3Y5nBwG3s"
      },
      "source": [
        "> Non-trainable aren't updated during training. This is typical in case of embeddings"
      ]
    },
    {
      "cell_type": "code",
      "metadata": {
        "colab": {
          "base_uri": "https://localhost:8080/",
          "height": 312
        },
        "id": "JJNI54EKzWAN",
        "outputId": "3cef57cf-cd1b-45a5-b81f-6a54bde97e07"
      },
      "source": [
        "# Another way to visualize the model\n",
        "tf.keras.utils.plot_model(model, show_shapes=True)"
      ],
      "execution_count": 18,
      "outputs": [
        {
          "output_type": "execute_result",
          "data": {
            "image/png": "[encoded data removed]",
            "text/plain": [
              "<IPython.core.display.Image object>"
            ]
          },
          "metadata": {
            "tags": []
          },
          "execution_count": 18
        }
      ]
    },
    {
      "cell_type": "code",
      "metadata": {
        "id": "X62XCHiD1Z8j"
      },
      "source": [
        "# Let's predict and visualize the test set and model's performance\n",
        "y_pred = model.predict(X_test)"
      ],
      "execution_count": 19,
      "outputs": []
    },
    {
      "cell_type": "code",
      "metadata": {
        "colab": {
          "base_uri": "https://localhost:8080/",
          "height": 428
        },
        "id": "6YEkkX8J2FVj",
        "outputId": "3eacb188-a34b-4ca0-ce5a-0087b088a20f"
      },
      "source": [
        "def visualize_predictions(train_data = X_train,\n",
        "                          train_labels = y_train,\n",
        "                          test_data = X_test,\n",
        "                          test_labels = y_test,\n",
        "                          predictions = y_pred):\n",
        "  \n",
        "  # Plot size\n",
        "  plt.figure(figsize=[10, 7])\n",
        "  # Plot training data\n",
        "  plt.scatter(train_data, train_labels, c = 'b', label = 'Train')\n",
        "  # Plot testing data\n",
        "  plt.scatter(test_data, test_labels, c = 'g', label = 'Test')\n",
        "  # Plot Predictions - Remember, for preds, X = X_test\n",
        "  plt.scatter(test_data, predictions, c = 'r', label = 'Predictions')\n",
        "  # Show the plot\n",
        "  plt.legend();\n",
        "\n",
        "visualize_predictions()"
      ],
      "execution_count": 20,
      "outputs": [
        {
          "output_type": "display_data",
          "data": {
            "image/png": "[encoded data removed]",
            "text/plain": [
              "<Figure size 720x504 with 1 Axes>"
            ]
          },
          "metadata": {
            "tags": [],
            "needs_background": "light"
          }
        }
      ]
    },
    {
      "cell_type": "code",
      "metadata": {
        "id": "6WPG61C53TSb"
      },
      "source": [
        "# The model is a bit off. And on the scale, predictions might even be off by 10's to 100's\n",
        "# We can again go back and experiment with epochs, learning rate etc."
      ],
      "execution_count": 21,
      "outputs": []
    },
    {
      "cell_type": "markdown",
      "metadata": {
        "id": "abXLQSSHI77m"
      },
      "source": [
        "#### Model Evaluation\n",
        "\n",
        "* MAE - Mean Absolute Error, how much on an average our predictions are 'off' from the actual value\n",
        "\n",
        "* MSE - Mean Squared Error, how much is the squared difference between model's predictions and actual value"
      ]
    },
    {
      "cell_type": "code",
      "metadata": {
        "colab": {
          "base_uri": "https://localhost:8080/"
        },
        "id": "2SNa9hDQLMdU",
        "outputId": "bab6e0cd-cfc4-41dd-e51e-1dcd2e4218b8"
      },
      "source": [
        "model.evaluate(X_test, y_test)"
      ],
      "execution_count": 22,
      "outputs": [
        {
          "output_type": "stream",
          "text": [
            "7/7 [==============================] - 0s 3ms/step - loss: 158.0210 - mae: 158.0210\n"
          ],
          "name": "stdout"
        },
        {
          "output_type": "execute_result",
          "data": {
            "text/plain": [
              "[158.02098083496094, 158.02098083496094]"
            ]
          },
          "metadata": {
            "tags": []
          },
          "execution_count": 22
        }
      ]
    },
    {
      "cell_type": "code",
      "metadata": {
        "colab": {
          "base_uri": "https://localhost:8080/"
        },
        "id": "jMWFeC4oLdGK",
        "outputId": "48e305da-7129-4931-af12-05f220b5930a"
      },
      "source": [
        "# If we don't use the squeeze method, since y_pred and y_test have different shape, mae and mse will be len(n) tensors\n",
        "mae = tf.keras.losses.mae(y_test, tf.squeeze(y_pred))\n",
        "mse = tf.keras.losses.mse(y_test, tf.squeeze(y_pred))\n",
        "\n",
        "print('Mean Absolute Error : ', mae)\n",
        "print('Mean Squared Error : ', mse)"
      ],
      "execution_count": 23,
      "outputs": [
        {
          "output_type": "stream",
          "text": [
            "Mean Absolute Error :  tf.Tensor(158.02098, shape=(), dtype=float32)\n",
            "Mean Squared Error :  tf.Tensor(25483.805, shape=(), dtype=float32)\n"
          ],
          "name": "stdout"
        }
      ]
    },
    {
      "cell_type": "markdown",
      "metadata": {
        "id": "QNBoYlowMJCh"
      },
      "source": [
        "### Save and Load Models\n",
        "\n",
        "Saving models helps us to use them outside training (or dev) environment and deploy them where we only require their predictions. Generally, you would train your model, experiment, figure out what is the best model for the particular problem. At last, when you are done with all of that, you want to use the model for predictions, for classifications in a web app or mobile app. In these higher environments, we won't do training or experimenting, rather simply use the model and make predictions. \n",
        "\n",
        "There are 2 main formats of saving models in TensorFlow - \n",
        "\n",
        "1. `SavedModel` Format\n",
        "2. `HDF5` Format"
      ]
    },
    {
      "cell_type": "code",
      "metadata": {
        "colab": {
          "base_uri": "https://localhost:8080/"
        },
        "id": "L941a3ndPVej",
        "outputId": "55e742cc-7024-4bf8-e283-364dedf99960"
      },
      "source": [
        "# Let's save in SavedModel format\n",
        "model.save('SavedModelFormat')\n",
        "\n",
        "# Also, use the HDF5 format\n",
        "model.save('HDF5Format.h5')"
      ],
      "execution_count": 24,
      "outputs": [
        {
          "output_type": "stream",
          "text": [
            "INFO:tensorflow:Assets written to: SavedModelFormat/assets\n"
          ],
          "name": "stdout"
        }
      ]
    },
    {
      "cell_type": "code",
      "metadata": {
        "id": "58OQeCHFRwQu"
      },
      "source": [
        "# Load both models\n",
        "savedFormatModel = tf.keras.models.load_model(\"/content/SavedModelFormat\")\n",
        "\n",
        "hdf5Model = tf.keras.models.load_model(\"/content/HDF5Format.h5\")"
      ],
      "execution_count": 25,
      "outputs": []
    },
    {
      "cell_type": "code",
      "metadata": {
        "colab": {
          "base_uri": "https://localhost:8080/"
        },
        "id": "mqxPGaKgSKpc",
        "outputId": "74e470bb-e3d7-45c0-b69f-b97fcf9538bf"
      },
      "source": [
        "# Make predictions from all the 3 model states\n",
        "# Ideally, saved model should give the same output as model it used to save.... duhhhh\n",
        "actual_pred = model.predict(tf.constant([100]))\n",
        "\n",
        "savedFormat_pred = savedFormatModel.predict(tf.constant([100]))\n",
        "\n",
        "hdf5_pred = hdf5Model.predict(tf.constant([100]))\n",
        "\n",
        "actual_pred, savedFormat_pred, hdf5_pred"
      ],
      "execution_count": 26,
      "outputs": [
        {
          "output_type": "execute_result",
          "data": {
            "text/plain": [
              "(array([[181.11325]], dtype=float32),\n",
              " array([[181.11325]], dtype=float32),\n",
              " array([[181.11325]], dtype=float32))"
            ]
          },
          "metadata": {
            "tags": []
          },
          "execution_count": 26
        }
      ]
    },
    {
      "cell_type": "code",
      "metadata": {
        "id": "ISHbnC8_SrjS"
      },
      "source": [
        "# If A=B and B=C, A=C!!!!!!!!!\n",
        "\n",
        "\n",
        "# Following code is commented due to large output, but could be run to verify if all the 3 model states give the same output\n",
        "# model.predict(X_test) == savedFormatModel.predict(X_test)\n",
        "\n",
        "# savedFormatModel.predict(X_test) == hdf5Model.predict(X_test)"
      ],
      "execution_count": 27,
      "outputs": []
    },
    {
      "cell_type": "markdown",
      "metadata": {
        "id": "KYnPU0axTSv-"
      },
      "source": [
        "#### So, in these notebook, we saw a basic introduction to Regression in TensorFlow. We created our own dataset, both feature and label and then created a lot of models. We saw how we can tweak hyperparameters and saw a good paradigm on how to approach experiments in general. Using our principle of 'Visualize, Experiment, Repeat', we created the models and also learnt to save and load them for deployment purposes"
      ]
    }
  ]
}