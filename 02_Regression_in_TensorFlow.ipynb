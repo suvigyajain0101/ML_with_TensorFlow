{
  "nbformat": 4,
  "nbformat_minor": 0,
  "metadata": {
    "colab": {
      "name": "02_Regression_in_TensorFlow.ipynb",
      "provenance": [],
      "collapsed_sections": [
        "QSFSjUQJkAps"
      ]
    },
    "kernelspec": {
      "name": "python3",
      "display_name": "Python 3"
    },
    "language_info": {
      "name": "python"
    }
  },
  "cells": [
    {
      "cell_type": "markdown",
      "metadata": {
        "id": "R9AzMT2ThvI6"
      },
      "source": [
        "**MEDICAL COSTS - INSURANCE COST**\n",
        "\n",
        "Problem Description - \n",
        "\n",
        "* **Source**  - https://www.kaggle.com/mirichoi0218/insurance\n",
        "* **Data** - Prediction of Insurance Cost for a person given features like Age, Sex, Smoking, Region etc.\n"
      ]
    },
    {
      "cell_type": "code",
      "metadata": {
        "id": "8N1f3C_djHTV"
      },
      "source": [
        "# Import libraries\n",
        "import tensorflow as tf\n",
        "import pandas as pd\n",
        "import matplotlib.pyplot as plt\n",
        "from sklearn.model_selection import train_test_split\n",
        "from sklearn.preprocessing import MinMaxScaler, OneHotEncoder\n",
        "from sklearn.compose import make_column_transformer\n",
        "import numpy as np"
      ],
      "execution_count": 1,
      "outputs": []
    },
    {
      "cell_type": "code",
      "metadata": {
        "colab": {
          "base_uri": "https://localhost:8080/",
          "height": 206
        },
        "id": "Gl0GUdmwjPuB",
        "outputId": "efafa5b6-e4fb-4ef3-dcbb-306e2258cff6"
      },
      "source": [
        "# Read the dataset\n",
        "\n",
        "raw_format_url = 'https://raw.githubusercontent.com/stedy/Machine-Learning-with-R-datasets/master/insurance.csv'\n",
        "\n",
        "df = pd.read_csv(raw_format_url)\n",
        "\n",
        "df.head()"
      ],
      "execution_count": 2,
      "outputs": [
        {
          "output_type": "execute_result",
          "data": {
            "text/html": [
              "<div>\n",
              "<style scoped>\n",
              "    .dataframe tbody tr th:only-of-type {\n",
              "        vertical-align: middle;\n",
              "    }\n",
              "\n",
              "    .dataframe tbody tr th {\n",
              "        vertical-align: top;\n",
              "    }\n",
              "\n",
              "    .dataframe thead th {\n",
              "        text-align: right;\n",
              "    }\n",
              "</style>\n",
              "<table border=\"1\" class=\"dataframe\">\n",
              "  <thead>\n",
              "    <tr style=\"text-align: right;\">\n",
              "      <th></th>\n",
              "      <th>age</th>\n",
              "      <th>sex</th>\n",
              "      <th>bmi</th>\n",
              "      <th>children</th>\n",
              "      <th>smoker</th>\n",
              "      <th>region</th>\n",
              "      <th>charges</th>\n",
              "    </tr>\n",
              "  </thead>\n",
              "  <tbody>\n",
              "    <tr>\n",
              "      <th>0</th>\n",
              "      <td>19</td>\n",
              "      <td>female</td>\n",
              "      <td>27.900</td>\n",
              "      <td>0</td>\n",
              "      <td>yes</td>\n",
              "      <td>southwest</td>\n",
              "      <td>16884.92400</td>\n",
              "    </tr>\n",
              "    <tr>\n",
              "      <th>1</th>\n",
              "      <td>18</td>\n",
              "      <td>male</td>\n",
              "      <td>33.770</td>\n",
              "      <td>1</td>\n",
              "      <td>no</td>\n",
              "      <td>southeast</td>\n",
              "      <td>1725.55230</td>\n",
              "    </tr>\n",
              "    <tr>\n",
              "      <th>2</th>\n",
              "      <td>28</td>\n",
              "      <td>male</td>\n",
              "      <td>33.000</td>\n",
              "      <td>3</td>\n",
              "      <td>no</td>\n",
              "      <td>southeast</td>\n",
              "      <td>4449.46200</td>\n",
              "    </tr>\n",
              "    <tr>\n",
              "      <th>3</th>\n",
              "      <td>33</td>\n",
              "      <td>male</td>\n",
              "      <td>22.705</td>\n",
              "      <td>0</td>\n",
              "      <td>no</td>\n",
              "      <td>northwest</td>\n",
              "      <td>21984.47061</td>\n",
              "    </tr>\n",
              "    <tr>\n",
              "      <th>4</th>\n",
              "      <td>32</td>\n",
              "      <td>male</td>\n",
              "      <td>28.880</td>\n",
              "      <td>0</td>\n",
              "      <td>no</td>\n",
              "      <td>northwest</td>\n",
              "      <td>3866.85520</td>\n",
              "    </tr>\n",
              "  </tbody>\n",
              "</table>\n",
              "</div>"
            ],
            "text/plain": [
              "   age     sex     bmi  children smoker     region      charges\n",
              "0   19  female  27.900         0    yes  southwest  16884.92400\n",
              "1   18    male  33.770         1     no  southeast   1725.55230\n",
              "2   28    male  33.000         3     no  southeast   4449.46200\n",
              "3   33    male  22.705         0     no  northwest  21984.47061\n",
              "4   32    male  28.880         0     no  northwest   3866.85520"
            ]
          },
          "metadata": {
            "tags": []
          },
          "execution_count": 2
        }
      ]
    },
    {
      "cell_type": "code",
      "metadata": {
        "colab": {
          "base_uri": "https://localhost:8080/"
        },
        "id": "I_9s5O8IjduU",
        "outputId": "ae1e4f2a-fd9f-4f69-b435-7276cc4535c1"
      },
      "source": [
        "# Data Volume\n",
        "df.shape"
      ],
      "execution_count": 3,
      "outputs": [
        {
          "output_type": "execute_result",
          "data": {
            "text/plain": [
              "(1338, 7)"
            ]
          },
          "metadata": {
            "tags": []
          },
          "execution_count": 3
        }
      ]
    },
    {
      "cell_type": "markdown",
      "metadata": {
        "id": "QSFSjUQJkAps"
      },
      "source": [
        "### EDA\n",
        "\n",
        "Let's look what exactly is in the dataset"
      ]
    },
    {
      "cell_type": "code",
      "metadata": {
        "colab": {
          "base_uri": "https://localhost:8080/",
          "height": 0
        },
        "id": "lcMBWMcvkFZp",
        "outputId": "26f97765-b005-449f-a84e-5be6b9075121"
      },
      "source": [
        "# How is age distributed?\n",
        "df['age'].plot.hist(bins=10)"
      ],
      "execution_count": 4,
      "outputs": [
        {
          "output_type": "execute_result",
          "data": {
            "text/plain": [
              "<matplotlib.axes._subplots.AxesSubplot at 0x7fdbcf9b0f10>"
            ]
          },
          "metadata": {
            "tags": []
          },
          "execution_count": 4
        },
        {
          "output_type": "display_data",
          "data": {
            "image/png": "[encoded data removed]",
            "text/plain": [
              "<Figure size 432x288 with 1 Axes>"
            ]
          },
          "metadata": {
            "tags": [],
            "needs_background": "light"
          }
        }
      ]
    },
    {
      "cell_type": "code",
      "metadata": {
        "id": "wm4TE3nvkoNL"
      },
      "source": [
        "# Fairly even, with a slightly higher number of younger people"
      ],
      "execution_count": 5,
      "outputs": []
    },
    {
      "cell_type": "code",
      "metadata": {
        "colab": {
          "base_uri": "https://localhost:8080/"
        },
        "id": "I-BHQaCikuvy",
        "outputId": "5e065860-9e60-4863-8afe-b1314133f0d9"
      },
      "source": [
        "# How is sex distributed?\n",
        "df['sex'].value_counts()"
      ],
      "execution_count": 6,
      "outputs": [
        {
          "output_type": "execute_result",
          "data": {
            "text/plain": [
              "male      676\n",
              "female    662\n",
              "Name: sex, dtype: int64"
            ]
          },
          "metadata": {
            "tags": []
          },
          "execution_count": 6
        }
      ]
    },
    {
      "cell_type": "code",
      "metadata": {
        "id": "TTxypb7Tk_wn"
      },
      "source": [
        "# Fairly even dataset across genders"
      ],
      "execution_count": 7,
      "outputs": []
    },
    {
      "cell_type": "markdown",
      "metadata": {
        "id": "X9ncz69slERe"
      },
      "source": [
        "> From Wiki -  Commonly accepted BMI ranges are underweight (under 18.5 kg/m2), normal weight (18.5 to 25), overweight (25 to 30), and obese (over 30). \n",
        "\n",
        "> As mentioned on Github, this data is for the US and the CDC also follows the same [guidelines](https://www.cdc.gov/healthyweight/assessing/bmi/adult_bmi/index.html) for BMI - \n",
        "\n",
        "Let's see how the BMI is distributed"
      ]
    },
    {
      "cell_type": "code",
      "metadata": {
        "colab": {
          "base_uri": "https://localhost:8080/",
          "height": 0
        },
        "id": "_fIoOkXXllvS",
        "outputId": "8b906407-39ed-4464-8896-dedd88f835e8"
      },
      "source": [
        "df['bmi'].plot.hist(bins=5)"
      ],
      "execution_count": 8,
      "outputs": [
        {
          "output_type": "execute_result",
          "data": {
            "text/plain": [
              "<matplotlib.axes._subplots.AxesSubplot at 0x7fdbcf40cb90>"
            ]
          },
          "metadata": {
            "tags": []
          },
          "execution_count": 8
        },
        {
          "output_type": "display_data",
          "data": {
            "image/png": "[encoded data removed]",
            "text/plain": [
              "<Figure size 432x288 with 1 Axes>"
            ]
          },
          "metadata": {
            "tags": [],
            "needs_background": "light"
          }
        }
      ]
    },
    {
      "cell_type": "code",
      "metadata": {
        "id": "EBo5Btaql75D"
      },
      "source": [
        "# Interesting.... a large chunk of the data is having a higher BMI!"
      ],
      "execution_count": 9,
      "outputs": []
    },
    {
      "cell_type": "code",
      "metadata": {
        "colab": {
          "base_uri": "https://localhost:8080/"
        },
        "id": "15LLqN7AmtMP",
        "outputId": "bb8fc9ef-8b56-42d0-a048-d4c2257b5e86"
      },
      "source": [
        "df['children'].value_counts()"
      ],
      "execution_count": 10,
      "outputs": [
        {
          "output_type": "execute_result",
          "data": {
            "text/plain": [
              "0    574\n",
              "1    324\n",
              "2    240\n",
              "3    157\n",
              "4     25\n",
              "5     18\n",
              "Name: children, dtype: int64"
            ]
          },
          "metadata": {
            "tags": []
          },
          "execution_count": 10
        }
      ]
    },
    {
      "cell_type": "code",
      "metadata": {
        "id": "fVS-g6MumyRc"
      },
      "source": [
        "# Majority of the people have <= 2 children"
      ],
      "execution_count": 11,
      "outputs": []
    },
    {
      "cell_type": "code",
      "metadata": {
        "colab": {
          "base_uri": "https://localhost:8080/"
        },
        "id": "onJNsyvFMQ8j",
        "outputId": "dfd9f050-6c50-444a-a1b7-6d1fca9f92aa"
      },
      "source": [
        "df['smoker'].value_counts()"
      ],
      "execution_count": 12,
      "outputs": [
        {
          "output_type": "execute_result",
          "data": {
            "text/plain": [
              "no     1064\n",
              "yes     274\n",
              "Name: smoker, dtype: int64"
            ]
          },
          "metadata": {
            "tags": []
          },
          "execution_count": 12
        }
      ]
    },
    {
      "cell_type": "code",
      "metadata": {
        "colab": {
          "base_uri": "https://localhost:8080/"
        },
        "id": "2EXtTWJ8MX1L",
        "outputId": "e3b7394a-a6ab-4e1d-acc5-689da0b6afcf"
      },
      "source": [
        "# More non-smokers. Is the cost of insurance higher for smokers?\n",
        "\n",
        "no_of_smokers = df[df['smoker'] == 'yes'].shape[0]\n",
        "no_of_non_smokers = df[df['smoker'] == 'no'].shape[0]\n",
        "\n",
        "avg_cost_for_smokers = df[df['smoker'] == 'yes']['charges'].sum() / no_of_smokers\n",
        "avg_cost_for_non_smokers = df[df['smoker'] == 'no']['charges'].sum() / no_of_non_smokers\n",
        "\n",
        "print(\"Average insurance cost for Smokers : \", avg_cost_for_smokers)\n",
        "print(\"Average insurance cost for Non-Smokers : \", avg_cost_for_non_smokers)"
      ],
      "execution_count": 13,
      "outputs": [
        {
          "output_type": "stream",
          "text": [
            "Average insurance cost for Smokers :  32050.23183153284\n",
            "Average insurance cost for Non-Smokers :  8434.268297856204\n"
          ],
          "name": "stdout"
        }
      ]
    },
    {
      "cell_type": "code",
      "metadata": {
        "id": "R-9OiqrjND3k"
      },
      "source": [
        "# Yeah, thought so!"
      ],
      "execution_count": 14,
      "outputs": []
    },
    {
      "cell_type": "code",
      "metadata": {
        "colab": {
          "base_uri": "https://localhost:8080/"
        },
        "id": "ZnZhUAmuNGP8",
        "outputId": "4025decb-00df-4a53-a8c9-92848bf5e17e"
      },
      "source": [
        "df['region'].value_counts()"
      ],
      "execution_count": 15,
      "outputs": [
        {
          "output_type": "execute_result",
          "data": {
            "text/plain": [
              "southeast    364\n",
              "southwest    325\n",
              "northwest    325\n",
              "northeast    324\n",
              "Name: region, dtype: int64"
            ]
          },
          "metadata": {
            "tags": []
          },
          "execution_count": 15
        }
      ]
    },
    {
      "cell_type": "code",
      "metadata": {
        "id": "10Z5qYZWNMxh"
      },
      "source": [
        "# Fairly even distribution across regions"
      ],
      "execution_count": 16,
      "outputs": []
    },
    {
      "cell_type": "code",
      "metadata": {
        "id": "m3jk9TW0NPMB"
      },
      "source": [
        "# Let's see if cost incured by distinct values in a feature are uniform\n",
        "\n",
        "def charges_per_category(df, category, plot = True):\n",
        "  \"\"\"\n",
        "  Function to get average charge across distinct values in a category\n",
        "  \"\"\"\n",
        "  grouped_df = df.groupby([category])[['charges']].mean()\n",
        "\n",
        "  if plot:\n",
        "    grouped_df['charges'].plot()\n",
        "  else:\n",
        "    return grouped_df"
      ],
      "execution_count": 17,
      "outputs": []
    },
    {
      "cell_type": "code",
      "metadata": {
        "colab": {
          "base_uri": "https://localhost:8080/",
          "height": 0
        },
        "id": "SRL7dDThPlHg",
        "outputId": "b8511753-0557-4a04-dacc-db72a3acc5c5"
      },
      "source": [
        "# Average cost of insurance across regions\n",
        "charges_per_category(df, 'region', plot = False)"
      ],
      "execution_count": 18,
      "outputs": [
        {
          "output_type": "execute_result",
          "data": {
            "text/html": [
              "<div>\n",
              "<style scoped>\n",
              "    .dataframe tbody tr th:only-of-type {\n",
              "        vertical-align: middle;\n",
              "    }\n",
              "\n",
              "    .dataframe tbody tr th {\n",
              "        vertical-align: top;\n",
              "    }\n",
              "\n",
              "    .dataframe thead th {\n",
              "        text-align: right;\n",
              "    }\n",
              "</style>\n",
              "<table border=\"1\" class=\"dataframe\">\n",
              "  <thead>\n",
              "    <tr style=\"text-align: right;\">\n",
              "      <th></th>\n",
              "      <th>charges</th>\n",
              "    </tr>\n",
              "    <tr>\n",
              "      <th>region</th>\n",
              "      <th></th>\n",
              "    </tr>\n",
              "  </thead>\n",
              "  <tbody>\n",
              "    <tr>\n",
              "      <th>northeast</th>\n",
              "      <td>13406.384516</td>\n",
              "    </tr>\n",
              "    <tr>\n",
              "      <th>northwest</th>\n",
              "      <td>12417.575374</td>\n",
              "    </tr>\n",
              "    <tr>\n",
              "      <th>southeast</th>\n",
              "      <td>14735.411438</td>\n",
              "    </tr>\n",
              "    <tr>\n",
              "      <th>southwest</th>\n",
              "      <td>12346.937377</td>\n",
              "    </tr>\n",
              "  </tbody>\n",
              "</table>\n",
              "</div>"
            ],
            "text/plain": [
              "                charges\n",
              "region                 \n",
              "northeast  13406.384516\n",
              "northwest  12417.575374\n",
              "southeast  14735.411438\n",
              "southwest  12346.937377"
            ]
          },
          "metadata": {
            "tags": []
          },
          "execution_count": 18
        }
      ]
    },
    {
      "cell_type": "code",
      "metadata": {
        "colab": {
          "base_uri": "https://localhost:8080/",
          "height": 0
        },
        "id": "3coqnHKLPGtB",
        "outputId": "a7b577b9-8ac7-42bd-f806-2f95b081ce18"
      },
      "source": [
        "# Southeast is paying highest cost. Does it have higher number of smokers?\n",
        "pd.crosstab(df['region'], df['smoker']) "
      ],
      "execution_count": 19,
      "outputs": [
        {
          "output_type": "execute_result",
          "data": {
            "text/html": [
              "<div>\n",
              "<style scoped>\n",
              "    .dataframe tbody tr th:only-of-type {\n",
              "        vertical-align: middle;\n",
              "    }\n",
              "\n",
              "    .dataframe tbody tr th {\n",
              "        vertical-align: top;\n",
              "    }\n",
              "\n",
              "    .dataframe thead th {\n",
              "        text-align: right;\n",
              "    }\n",
              "</style>\n",
              "<table border=\"1\" class=\"dataframe\">\n",
              "  <thead>\n",
              "    <tr style=\"text-align: right;\">\n",
              "      <th>smoker</th>\n",
              "      <th>no</th>\n",
              "      <th>yes</th>\n",
              "    </tr>\n",
              "    <tr>\n",
              "      <th>region</th>\n",
              "      <th></th>\n",
              "      <th></th>\n",
              "    </tr>\n",
              "  </thead>\n",
              "  <tbody>\n",
              "    <tr>\n",
              "      <th>northeast</th>\n",
              "      <td>257</td>\n",
              "      <td>67</td>\n",
              "    </tr>\n",
              "    <tr>\n",
              "      <th>northwest</th>\n",
              "      <td>267</td>\n",
              "      <td>58</td>\n",
              "    </tr>\n",
              "    <tr>\n",
              "      <th>southeast</th>\n",
              "      <td>273</td>\n",
              "      <td>91</td>\n",
              "    </tr>\n",
              "    <tr>\n",
              "      <th>southwest</th>\n",
              "      <td>267</td>\n",
              "      <td>58</td>\n",
              "    </tr>\n",
              "  </tbody>\n",
              "</table>\n",
              "</div>"
            ],
            "text/plain": [
              "smoker      no  yes\n",
              "region             \n",
              "northeast  257   67\n",
              "northwest  267   58\n",
              "southeast  273   91\n",
              "southwest  267   58"
            ]
          },
          "metadata": {
            "tags": []
          },
          "execution_count": 19
        }
      ]
    },
    {
      "cell_type": "code",
      "metadata": {
        "id": "6NJ_sNtIP_cY"
      },
      "source": [
        "# Yes, it does!!"
      ],
      "execution_count": 20,
      "outputs": []
    },
    {
      "cell_type": "code",
      "metadata": {
        "colab": {
          "base_uri": "https://localhost:8080/",
          "height": 0
        },
        "id": "heZrlqkpQBFY",
        "outputId": "43bf2c1c-a19f-4204-a640-62cd6f18c257"
      },
      "source": [
        "# Average cost of insurance by the age\n",
        "charges_per_category(df, 'age', plot = True)"
      ],
      "execution_count": 21,
      "outputs": [
        {
          "output_type": "display_data",
          "data": {
            "image/png": "[encoded data removed]",
            "text/plain": [
              "<Figure size 432x288 with 1 Axes>"
            ]
          },
          "metadata": {
            "tags": [],
            "needs_background": "light"
          }
        }
      ]
    },
    {
      "cell_type": "code",
      "metadata": {
        "id": "EKLmuUlQQKkQ"
      },
      "source": [
        "# Figure shows an upward trend. This is how insurance works, right?"
      ],
      "execution_count": 22,
      "outputs": []
    },
    {
      "cell_type": "code",
      "metadata": {
        "colab": {
          "base_uri": "https://localhost:8080/",
          "height": 0
        },
        "id": "LKR5UR4hQST8",
        "outputId": "909ca6de-4d2c-4315-96a2-bb6dd4e463f9"
      },
      "source": [
        "# Average cost of insurance by the sex\n",
        "charges_per_category(df, 'sex', plot = False)"
      ],
      "execution_count": 23,
      "outputs": [
        {
          "output_type": "execute_result",
          "data": {
            "text/html": [
              "<div>\n",
              "<style scoped>\n",
              "    .dataframe tbody tr th:only-of-type {\n",
              "        vertical-align: middle;\n",
              "    }\n",
              "\n",
              "    .dataframe tbody tr th {\n",
              "        vertical-align: top;\n",
              "    }\n",
              "\n",
              "    .dataframe thead th {\n",
              "        text-align: right;\n",
              "    }\n",
              "</style>\n",
              "<table border=\"1\" class=\"dataframe\">\n",
              "  <thead>\n",
              "    <tr style=\"text-align: right;\">\n",
              "      <th></th>\n",
              "      <th>charges</th>\n",
              "    </tr>\n",
              "    <tr>\n",
              "      <th>sex</th>\n",
              "      <th></th>\n",
              "    </tr>\n",
              "  </thead>\n",
              "  <tbody>\n",
              "    <tr>\n",
              "      <th>female</th>\n",
              "      <td>12569.578844</td>\n",
              "    </tr>\n",
              "    <tr>\n",
              "      <th>male</th>\n",
              "      <td>13956.751178</td>\n",
              "    </tr>\n",
              "  </tbody>\n",
              "</table>\n",
              "</div>"
            ],
            "text/plain": [
              "             charges\n",
              "sex                 \n",
              "female  12569.578844\n",
              "male    13956.751178"
            ]
          },
          "metadata": {
            "tags": []
          },
          "execution_count": 23
        }
      ]
    },
    {
      "cell_type": "code",
      "metadata": {
        "id": "aa-kkQ--QVTJ"
      },
      "source": [
        "# Males are paying, on an avg, $1000 more for the insurance"
      ],
      "execution_count": 24,
      "outputs": []
    },
    {
      "cell_type": "code",
      "metadata": {
        "colab": {
          "base_uri": "https://localhost:8080/",
          "height": 0
        },
        "id": "uH27Et_3Qf-w",
        "outputId": "d72b5362-7876-41dd-9f07-0dfacce30c34"
      },
      "source": [
        "# Do you pay less insurance, if you have better BMI?\n",
        "\n",
        "# Let's first assign a category based on CDC guidelines to BMI range\n",
        "# BMI\t            Weight Status\n",
        "# Below 18.5\t    Underweight\n",
        "# 18.5 – 24.9\t    Normal or Healthy Weight\n",
        "# 25.0 – 29.9\t    Overweight\n",
        "# 30.0 and Above\tObese\n",
        "\n",
        "df_bmi = df[['bmi', 'charges']]\n",
        "df_bmi['bmi_category'] = pd.cut(df['bmi'],[0, 18.5, 24.9, 29.9, np.inf],labels=['Underweight','Normal or Healthy Weight', 'Overweight', 'Obese'])\n",
        "\n",
        "charges_per_category(df_bmi, 'bmi_category', plot = False)"
      ],
      "execution_count": 25,
      "outputs": [
        {
          "output_type": "stream",
          "text": [
            "/usr/local/lib/python3.7/dist-packages/ipykernel_launcher.py:11: SettingWithCopyWarning: \n",
            "A value is trying to be set on a copy of a slice from a DataFrame.\n",
            "Try using .loc[row_indexer,col_indexer] = value instead\n",
            "\n",
            "See the caveats in the documentation: https://pandas.pydata.org/pandas-docs/stable/user_guide/indexing.html#returning-a-view-versus-a-copy\n",
            "  # This is added back by InteractiveShellApp.init_path()\n"
          ],
          "name": "stderr"
        },
        {
          "output_type": "execute_result",
          "data": {
            "text/html": [
              "<div>\n",
              "<style scoped>\n",
              "    .dataframe tbody tr th:only-of-type {\n",
              "        vertical-align: middle;\n",
              "    }\n",
              "\n",
              "    .dataframe tbody tr th {\n",
              "        vertical-align: top;\n",
              "    }\n",
              "\n",
              "    .dataframe thead th {\n",
              "        text-align: right;\n",
              "    }\n",
              "</style>\n",
              "<table border=\"1\" class=\"dataframe\">\n",
              "  <thead>\n",
              "    <tr style=\"text-align: right;\">\n",
              "      <th></th>\n",
              "      <th>charges</th>\n",
              "    </tr>\n",
              "    <tr>\n",
              "      <th>bmi_category</th>\n",
              "      <th></th>\n",
              "    </tr>\n",
              "  </thead>\n",
              "  <tbody>\n",
              "    <tr>\n",
              "      <th>Underweight</th>\n",
              "      <td>8657.620652</td>\n",
              "    </tr>\n",
              "    <tr>\n",
              "      <th>Normal or Healthy Weight</th>\n",
              "      <td>10404.900084</td>\n",
              "    </tr>\n",
              "    <tr>\n",
              "      <th>Overweight</th>\n",
              "      <td>11006.809989</td>\n",
              "    </tr>\n",
              "    <tr>\n",
              "      <th>Obese</th>\n",
              "      <td>15491.542238</td>\n",
              "    </tr>\n",
              "  </tbody>\n",
              "</table>\n",
              "</div>"
            ],
            "text/plain": [
              "                               charges\n",
              "bmi_category                          \n",
              "Underweight                8657.620652\n",
              "Normal or Healthy Weight  10404.900084\n",
              "Overweight                11006.809989\n",
              "Obese                     15491.542238"
            ]
          },
          "metadata": {
            "tags": []
          },
          "execution_count": 25
        }
      ]
    },
    {
      "cell_type": "code",
      "metadata": {
        "id": "5oFTvYa5S4sy"
      },
      "source": [
        "# In an ideal world, Underweight people would pay more for the insurance"
      ],
      "execution_count": 26,
      "outputs": []
    },
    {
      "cell_type": "markdown",
      "metadata": {
        "id": "WxNqVsKfTE6a"
      },
      "source": [
        "## Data Preparation"
      ]
    },
    {
      "cell_type": "code",
      "metadata": {
        "colab": {
          "base_uri": "https://localhost:8080/",
          "height": 226
        },
        "id": "VJ7ZDmkiTp2B",
        "outputId": "96a450be-3841-4cac-d6e0-fdadb7896bcc"
      },
      "source": [
        "# Since we have few categorical columns, let's first one-hot encode the dataframe\n",
        "\n",
        "one_hot_df = pd.get_dummies(df)\n",
        "one_hot_df.head()"
      ],
      "execution_count": 27,
      "outputs": [
        {
          "output_type": "execute_result",
          "data": {
            "text/html": [
              "<div>\n",
              "<style scoped>\n",
              "    .dataframe tbody tr th:only-of-type {\n",
              "        vertical-align: middle;\n",
              "    }\n",
              "\n",
              "    .dataframe tbody tr th {\n",
              "        vertical-align: top;\n",
              "    }\n",
              "\n",
              "    .dataframe thead th {\n",
              "        text-align: right;\n",
              "    }\n",
              "</style>\n",
              "<table border=\"1\" class=\"dataframe\">\n",
              "  <thead>\n",
              "    <tr style=\"text-align: right;\">\n",
              "      <th></th>\n",
              "      <th>age</th>\n",
              "      <th>bmi</th>\n",
              "      <th>children</th>\n",
              "      <th>charges</th>\n",
              "      <th>sex_female</th>\n",
              "      <th>sex_male</th>\n",
              "      <th>smoker_no</th>\n",
              "      <th>smoker_yes</th>\n",
              "      <th>region_northeast</th>\n",
              "      <th>region_northwest</th>\n",
              "      <th>region_southeast</th>\n",
              "      <th>region_southwest</th>\n",
              "    </tr>\n",
              "  </thead>\n",
              "  <tbody>\n",
              "    <tr>\n",
              "      <th>0</th>\n",
              "      <td>19</td>\n",
              "      <td>27.900</td>\n",
              "      <td>0</td>\n",
              "      <td>16884.92400</td>\n",
              "      <td>1</td>\n",
              "      <td>0</td>\n",
              "      <td>0</td>\n",
              "      <td>1</td>\n",
              "      <td>0</td>\n",
              "      <td>0</td>\n",
              "      <td>0</td>\n",
              "      <td>1</td>\n",
              "    </tr>\n",
              "    <tr>\n",
              "      <th>1</th>\n",
              "      <td>18</td>\n",
              "      <td>33.770</td>\n",
              "      <td>1</td>\n",
              "      <td>1725.55230</td>\n",
              "      <td>0</td>\n",
              "      <td>1</td>\n",
              "      <td>1</td>\n",
              "      <td>0</td>\n",
              "      <td>0</td>\n",
              "      <td>0</td>\n",
              "      <td>1</td>\n",
              "      <td>0</td>\n",
              "    </tr>\n",
              "    <tr>\n",
              "      <th>2</th>\n",
              "      <td>28</td>\n",
              "      <td>33.000</td>\n",
              "      <td>3</td>\n",
              "      <td>4449.46200</td>\n",
              "      <td>0</td>\n",
              "      <td>1</td>\n",
              "      <td>1</td>\n",
              "      <td>0</td>\n",
              "      <td>0</td>\n",
              "      <td>0</td>\n",
              "      <td>1</td>\n",
              "      <td>0</td>\n",
              "    </tr>\n",
              "    <tr>\n",
              "      <th>3</th>\n",
              "      <td>33</td>\n",
              "      <td>22.705</td>\n",
              "      <td>0</td>\n",
              "      <td>21984.47061</td>\n",
              "      <td>0</td>\n",
              "      <td>1</td>\n",
              "      <td>1</td>\n",
              "      <td>0</td>\n",
              "      <td>0</td>\n",
              "      <td>1</td>\n",
              "      <td>0</td>\n",
              "      <td>0</td>\n",
              "    </tr>\n",
              "    <tr>\n",
              "      <th>4</th>\n",
              "      <td>32</td>\n",
              "      <td>28.880</td>\n",
              "      <td>0</td>\n",
              "      <td>3866.85520</td>\n",
              "      <td>0</td>\n",
              "      <td>1</td>\n",
              "      <td>1</td>\n",
              "      <td>0</td>\n",
              "      <td>0</td>\n",
              "      <td>1</td>\n",
              "      <td>0</td>\n",
              "      <td>0</td>\n",
              "    </tr>\n",
              "  </tbody>\n",
              "</table>\n",
              "</div>"
            ],
            "text/plain": [
              "   age     bmi  children  ...  region_northwest  region_southeast  region_southwest\n",
              "0   19  27.900         0  ...                 0                 0                 1\n",
              "1   18  33.770         1  ...                 0                 1                 0\n",
              "2   28  33.000         3  ...                 0                 1                 0\n",
              "3   33  22.705         0  ...                 1                 0                 0\n",
              "4   32  28.880         0  ...                 1                 0                 0\n",
              "\n",
              "[5 rows x 12 columns]"
            ]
          },
          "metadata": {
            "tags": []
          },
          "execution_count": 27
        }
      ]
    },
    {
      "cell_type": "code",
      "metadata": {
        "id": "0gw21sYpUNa0"
      },
      "source": [
        "# Now that all the features are numeric, we can create features and labels\n",
        "X, y = one_hot_df.drop(columns=['charges'], axis=1), one_hot_df['charges']\n",
        "\n",
        "# Next, we need to split the data in train and test. We can ignore validation, due to less data size. We'll choose 20% testing data\n",
        "\n",
        "test_size = 0.2\n",
        "\n",
        "X_train, X_test, y_train, y_test = train_test_split(X, y, test_size=test_size, random_state=42)"
      ],
      "execution_count": 28,
      "outputs": []
    },
    {
      "cell_type": "markdown",
      "metadata": {
        "id": "ohhFPrpIWlnp"
      },
      "source": [
        "## Modelling"
      ]
    },
    {
      "cell_type": "code",
      "metadata": {
        "colab": {
          "base_uri": "https://localhost:8080/"
        },
        "id": "aG2pO8uZWnJf",
        "outputId": "44c2da49-47f4-4897-985b-1b2917a9f4e5"
      },
      "source": [
        "tf.random.set_seed(42)\n",
        "# Step 1 - Create the model\n",
        "model = tf.keras.Sequential()\n",
        "model.add(tf.keras.layers.Dense(20, activation='relu'))\n",
        "model.add(tf.keras.layers.Dense(20, activation='relu'))\n",
        "model.add(tf.keras.layers.Dense(20, activation='relu'))\n",
        "model.add(tf.keras.layers.Dense(1))\n",
        "\n",
        "# Step 2 - Compile the model\n",
        "model.compile(loss = tf.keras.losses.mae,\n",
        "              optimizer = tf.keras.optimizers.Adam(learning_rate = 0.001),\n",
        "              metrics = ['mae'])\n",
        "\n",
        "# Step 3 - Fit the model\n",
        "model.fit(X_train, y_train, epochs = 50, verbose = 0)\n",
        "\n",
        "# Step 4 - Evaluate the model\n",
        "model.evaluate(X_test, y_test)\n",
        "\n",
        "# Step 5 - Make predictions\n",
        "y_pred = model.predict(X_test)"
      ],
      "execution_count": 29,
      "outputs": [
        {
          "output_type": "stream",
          "text": [
            "9/9 [==============================] - 0s 2ms/step - loss: 6058.5903 - mae: 6058.5903\n"
          ],
          "name": "stdout"
        }
      ]
    },
    {
      "cell_type": "code",
      "metadata": {
        "colab": {
          "base_uri": "https://localhost:8080/"
        },
        "id": "kDbEQgNxakat",
        "outputId": "efce642a-2a7d-4321-9e8b-4a3cf03d3f50"
      },
      "source": [
        "# Our model is off by 6k. What are central tendencies of y_test?\n",
        "y_test.median(), y_test.mean()"
      ],
      "execution_count": 30,
      "outputs": [
        {
          "output_type": "execute_result",
          "data": {
            "text/plain": [
              "(8487.8803, 12968.31706286941)"
            ]
          },
          "metadata": {
            "tags": []
          },
          "execution_count": 30
        }
      ]
    },
    {
      "cell_type": "code",
      "metadata": {
        "id": "Gq42r_Cqaxf3"
      },
      "source": [
        "# Compared to mean and median, the model loss is substantial and needs a lot of improvement"
      ],
      "execution_count": 31,
      "outputs": []
    },
    {
      "cell_type": "markdown",
      "metadata": {
        "id": "A3FedL2ka5BM"
      },
      "source": [
        "### Experiments"
      ]
    },
    {
      "cell_type": "code",
      "metadata": {
        "colab": {
          "base_uri": "https://localhost:8080/"
        },
        "id": "Q4ZxUbFba7tf",
        "outputId": "75ef7d22-1690-47e6-e517-408a12073d6c"
      },
      "source": [
        "# Experiment 1 - Change the learning rate to default\n",
        "\n",
        "# Step 1 - Create the model\n",
        "model = tf.keras.Sequential()\n",
        "model.add(tf.keras.layers.Dense(20, activation='relu'))\n",
        "model.add(tf.keras.layers.Dense(20, activation='relu'))\n",
        "model.add(tf.keras.layers.Dense(20, activation='relu'))\n",
        "model.add(tf.keras.layers.Dense(1))\n",
        "\n",
        "# Step 2 - Compile the model\n",
        "model.compile(loss = tf.keras.losses.mae,\n",
        "              optimizer = tf.keras.optimizers.Adam(),\n",
        "              metrics = ['mae'])\n",
        "\n",
        "# Step 3 - Fit the model\n",
        "model.fit(X_train, y_train, epochs = 50, verbose = 0)\n",
        "\n",
        "# Step 4 - Evaluate the model\n",
        "model.evaluate(X_test, y_test)\n",
        "\n",
        "# Step 5 - Make predictions\n",
        "y_pred = model.predict(X_test)"
      ],
      "execution_count": 32,
      "outputs": [
        {
          "output_type": "stream",
          "text": [
            "9/9 [==============================] - 0s 2ms/step - loss: 6288.8306 - mae: 6288.8306\n"
          ],
          "name": "stdout"
        }
      ]
    },
    {
      "cell_type": "code",
      "metadata": {
        "colab": {
          "base_uri": "https://localhost:8080/"
        },
        "id": "3xDNceW4bIxU",
        "outputId": "d22724c5-4f7e-4462-8043-3e01132c7d32"
      },
      "source": [
        "# Even worse, so we might need to increase the LR\n",
        "\n",
        "# Experiment 2 - Increase the learning rate\n",
        "\n",
        "# Step 1 - Create the model\n",
        "model = tf.keras.Sequential()\n",
        "model.add(tf.keras.layers.Dense(20, activation='relu'))\n",
        "model.add(tf.keras.layers.Dense(20, activation='relu'))\n",
        "model.add(tf.keras.layers.Dense(20, activation='relu'))\n",
        "model.add(tf.keras.layers.Dense(1))\n",
        "\n",
        "# Step 2 - Compile the model\n",
        "model.compile(loss = tf.keras.losses.mae,\n",
        "              optimizer = tf.keras.optimizers.Adam(learning_rate=0.01),\n",
        "              metrics = ['mae'])\n",
        "\n",
        "# Step 3 - Fit the model\n",
        "model.fit(X_train, y_train, epochs = 50, verbose = 0)\n",
        "\n",
        "# Step 4 - Evaluate the model\n",
        "model.evaluate(X_test, y_test)\n",
        "\n",
        "# Step 5 - Make predictions\n",
        "y_pred = model.predict(X_test)"
      ],
      "execution_count": 33,
      "outputs": [
        {
          "output_type": "stream",
          "text": [
            "9/9 [==============================] - 0s 2ms/step - loss: 2260.5576 - mae: 2260.5576\n"
          ],
          "name": "stdout"
        }
      ]
    },
    {
      "cell_type": "code",
      "metadata": {
        "colab": {
          "base_uri": "https://localhost:8080/"
        },
        "id": "Aq92-iIebVQ8",
        "outputId": "4164f071-6331-427b-9139-d260376d1c4b"
      },
      "source": [
        "# Woahhh!! That's a good jump. Now, we can look into epochs\n",
        "\n",
        "# Experiment 3 - Increase the epochs. Note that we have carried LR from previous experiment\n",
        "\n",
        "# Step 1 - Create the model\n",
        "model = tf.keras.Sequential()\n",
        "model.add(tf.keras.layers.Dense(20, activation='relu'))\n",
        "model.add(tf.keras.layers.Dense(20, activation='relu'))\n",
        "model.add(tf.keras.layers.Dense(20, activation='relu'))\n",
        "model.add(tf.keras.layers.Dense(1))\n",
        "\n",
        "# Step 2 - Compile the model\n",
        "model.compile(loss = tf.keras.losses.mae,\n",
        "              optimizer = tf.keras.optimizers.Adam(learning_rate=0.01),\n",
        "              metrics = ['mae'])\n",
        "\n",
        "# Step 3 - Fit the model\n",
        "model.fit(X_train, y_train, epochs = 100, verbose = 0)\n",
        "\n",
        "# Step 4 - Evaluate the model\n",
        "model.evaluate(X_test, y_test)\n",
        "\n",
        "# Step 5 - Make predictions\n",
        "y_pred = model.predict(X_test)"
      ],
      "execution_count": 34,
      "outputs": [
        {
          "output_type": "stream",
          "text": [
            "9/9 [==============================] - 0s 2ms/step - loss: 1879.9004 - mae: 1879.9004\n"
          ],
          "name": "stdout"
        }
      ]
    },
    {
      "cell_type": "code",
      "metadata": {
        "colab": {
          "base_uri": "https://localhost:8080/"
        },
        "id": "JPSZ6Cllbrlq",
        "outputId": "3d9dbab9-638a-437d-cbe7-993384001758"
      },
      "source": [
        "# Even better. One question we might ask is, are we overfitting the data?\n",
        "\n",
        "# Experiment 4 - Reduce the number of hidden layers\n",
        "\n",
        "# Step 1 - Create the model\n",
        "model = tf.keras.Sequential()\n",
        "model.add(tf.keras.layers.Dense(20, activation='relu'))\n",
        "model.add(tf.keras.layers.Dense(20, activation='relu'))\n",
        "model.add(tf.keras.layers.Dense(1))\n",
        "\n",
        "# Step 2 - Compile the model\n",
        "model.compile(loss = tf.keras.losses.mae,\n",
        "              optimizer = tf.keras.optimizers.Adam(learning_rate=0.01),\n",
        "              metrics = ['mae'])\n",
        "\n",
        "# Step 3 - Fit the model\n",
        "model.fit(X_train, y_train, epochs = 100, verbose = 0)\n",
        "\n",
        "# Step 4 - Evaluate the model\n",
        "model.evaluate(X_test, y_test)\n",
        "\n",
        "# Step 5 - Make predictions\n",
        "y_pred = model.predict(X_test)"
      ],
      "execution_count": 35,
      "outputs": [
        {
          "output_type": "stream",
          "text": [
            "9/9 [==============================] - 0s 1ms/step - loss: 2137.7402 - mae: 2137.7402\n"
          ],
          "name": "stdout"
        }
      ]
    },
    {
      "cell_type": "code",
      "metadata": {
        "colab": {
          "base_uri": "https://localhost:8080/"
        },
        "id": "VsDSJg9Nb8w5",
        "outputId": "18902b43-b4e8-42a1-8e89-523f28cdaf3a"
      },
      "source": [
        "# Experiment 5 - Increase the number of neurons in hidden layers\n",
        "\n",
        "# Step 1 - Create the model\n",
        "model = tf.keras.Sequential()\n",
        "model.add(tf.keras.layers.Dense(50, activation='relu'))\n",
        "model.add(tf.keras.layers.Dense(50, activation='relu'))\n",
        "model.add(tf.keras.layers.Dense(50, activation='relu'))\n",
        "model.add(tf.keras.layers.Dense(1))\n",
        "\n",
        "# Step 2 - Compile the model\n",
        "model.compile(loss = tf.keras.losses.mae,\n",
        "              optimizer = tf.keras.optimizers.Adam(learning_rate=0.01),\n",
        "              metrics = ['mae'])\n",
        "\n",
        "# Step 3 - Fit the model\n",
        "model.fit(X_train, y_train, epochs = 100, verbose = 0)\n",
        "\n",
        "# Step 4 - Evaluate the model\n",
        "model.evaluate(X_test, y_test)\n",
        "\n",
        "# Step 5 - Make predictions\n",
        "y_pred = model.predict(X_test)"
      ],
      "execution_count": 36,
      "outputs": [
        {
          "output_type": "stream",
          "text": [
            "9/9 [==============================] - 0s 2ms/step - loss: 1835.4792 - mae: 1835.4792\n"
          ],
          "name": "stdout"
        }
      ]
    },
    {
      "cell_type": "code",
      "metadata": {
        "id": "NkNi5lSJcMa3",
        "colab": {
          "base_uri": "https://localhost:8080/"
        },
        "outputId": "bfc06f5b-c5ad-4245-8717-98ac542e3501"
      },
      "source": [
        "# A little improvement. What we are trying till now is looking only at test accuracy. What about training accuracy?\n",
        "\n",
        "model.evaluate(X_train, y_train)\n",
        "\n",
        "# So, the model is performing better on test data ?!?!?!?"
      ],
      "execution_count": 37,
      "outputs": [
        {
          "output_type": "stream",
          "text": [
            "34/34 [==============================] - 0s 1ms/step - loss: 2110.1436 - mae: 2110.1436\n"
          ],
          "name": "stdout"
        },
        {
          "output_type": "execute_result",
          "data": {
            "text/plain": [
              "[2110.1435546875, 2110.1435546875]"
            ]
          },
          "metadata": {
            "tags": []
          },
          "execution_count": 37
        }
      ]
    },
    {
      "cell_type": "code",
      "metadata": {
        "colab": {
          "base_uri": "https://localhost:8080/"
        },
        "id": "-HHzg22A5TwI",
        "outputId": "6eb36f3e-0cd1-4319-a7f6-cebed31c2cb9"
      },
      "source": [
        "# Experiment 6 - Let's try a different architecture. Also, we will also plot history\n",
        "\n",
        "# Step 1 - Create the model\n",
        "model = tf.keras.Sequential()\n",
        "model.add(tf.keras.layers.Dense(100, activation='relu'))\n",
        "model.add(tf.keras.layers.Dense(50, activation='relu'))\n",
        "model.add(tf.keras.layers.Dense(20, activation='relu'))\n",
        "model.add(tf.keras.layers.Dense(1))\n",
        "\n",
        "# Step 2 - Compile the model\n",
        "model.compile(loss = tf.keras.losses.mae,\n",
        "              optimizer = tf.keras.optimizers.Adam(learning_rate=0.01),\n",
        "              metrics = ['mae'])\n",
        "\n",
        "# Step 3 - Fit the model\n",
        "history = model.fit(X_train, y_train, epochs = 100, verbose = 0)\n",
        "\n",
        "# Step 4 - Evaluate the model on both train and test data set\n",
        "model.evaluate(X_train, y_train)\n",
        "model.evaluate(X_test, y_test)\n",
        "\n",
        "# Step 5 - Make predictions\n",
        "y_pred = model.predict(X_test)"
      ],
      "execution_count": 38,
      "outputs": [
        {
          "output_type": "stream",
          "text": [
            "34/34 [==============================] - 0s 1ms/step - loss: 1940.7112 - mae: 1940.7112\n",
            "9/9 [==============================] - 0s 2ms/step - loss: 1661.8612 - mae: 1661.8612\n"
          ],
          "name": "stdout"
        }
      ]
    },
    {
      "cell_type": "code",
      "metadata": {
        "id": "tj4mqSiF6XPy"
      },
      "source": [
        "# Again, improvement. But, test accuracy is still higher than train accuracy. Are we training our model less? \n",
        "# 500 epochs for a 1000 row dataset seems enough\n",
        "\n",
        "# Let's check out history metrics"
      ],
      "execution_count": 39,
      "outputs": []
    },
    {
      "cell_type": "code",
      "metadata": {
        "colab": {
          "base_uri": "https://localhost:8080/",
          "height": 297
        },
        "id": "0yekj-iM9As4",
        "outputId": "b0763825-580a-446b-cda2-2936e00e0368"
      },
      "source": [
        "# Plot history (Also known as loss curve or training curve)\n",
        "\n",
        "pd.DataFrame(history.history).plot()\n",
        "plt.xlabel('Epochs')\n",
        "plt.ylabel('Loss')"
      ],
      "execution_count": 40,
      "outputs": [
        {
          "output_type": "execute_result",
          "data": {
            "text/plain": [
              "Text(0, 0.5, 'Loss')"
            ]
          },
          "metadata": {
            "tags": []
          },
          "execution_count": 40
        },
        {
          "output_type": "display_data",
          "data": {
            "image/png": "[encoded data removed]",
            "text/plain": [
              "<Figure size 432x288 with 1 Axes>"
            ]
          },
          "metadata": {
            "tags": [],
            "needs_background": "light"
          }
        }
      ]
    },
    {
      "cell_type": "code",
      "metadata": {
        "id": "yEU55Zd_9eJV"
      },
      "source": [
        "# So, the answer is, absolutely not. Model training mostly happens till 100 epochs and then it's all diminishing returns.\n",
        "# In order to further decrease the loss, let's try out other approaches, becuase let's face it, 2000 is still a substantial loss\n",
        "# $2000, is a LOT MORE!!"
      ],
      "execution_count": 41,
      "outputs": []
    },
    {
      "cell_type": "code",
      "metadata": {
        "colab": {
          "base_uri": "https://localhost:8080/",
          "height": 206
        },
        "id": "7F527Syx-Drx",
        "outputId": "f9c3e430-6454-46fe-f1f5-cc5a8b5b2ca8"
      },
      "source": [
        "# Let's have a look at the data again.\n",
        "X_train.head()"
      ],
      "execution_count": 42,
      "outputs": [
        {
          "output_type": "execute_result",
          "data": {
            "text/html": [
              "<div>\n",
              "<style scoped>\n",
              "    .dataframe tbody tr th:only-of-type {\n",
              "        vertical-align: middle;\n",
              "    }\n",
              "\n",
              "    .dataframe tbody tr th {\n",
              "        vertical-align: top;\n",
              "    }\n",
              "\n",
              "    .dataframe thead th {\n",
              "        text-align: right;\n",
              "    }\n",
              "</style>\n",
              "<table border=\"1\" class=\"dataframe\">\n",
              "  <thead>\n",
              "    <tr style=\"text-align: right;\">\n",
              "      <th></th>\n",
              "      <th>age</th>\n",
              "      <th>bmi</th>\n",
              "      <th>children</th>\n",
              "      <th>sex_female</th>\n",
              "      <th>sex_male</th>\n",
              "      <th>smoker_no</th>\n",
              "      <th>smoker_yes</th>\n",
              "      <th>region_northeast</th>\n",
              "      <th>region_northwest</th>\n",
              "      <th>region_southeast</th>\n",
              "      <th>region_southwest</th>\n",
              "    </tr>\n",
              "  </thead>\n",
              "  <tbody>\n",
              "    <tr>\n",
              "      <th>560</th>\n",
              "      <td>46</td>\n",
              "      <td>19.95</td>\n",
              "      <td>2</td>\n",
              "      <td>1</td>\n",
              "      <td>0</td>\n",
              "      <td>1</td>\n",
              "      <td>0</td>\n",
              "      <td>0</td>\n",
              "      <td>1</td>\n",
              "      <td>0</td>\n",
              "      <td>0</td>\n",
              "    </tr>\n",
              "    <tr>\n",
              "      <th>1285</th>\n",
              "      <td>47</td>\n",
              "      <td>24.32</td>\n",
              "      <td>0</td>\n",
              "      <td>1</td>\n",
              "      <td>0</td>\n",
              "      <td>1</td>\n",
              "      <td>0</td>\n",
              "      <td>1</td>\n",
              "      <td>0</td>\n",
              "      <td>0</td>\n",
              "      <td>0</td>\n",
              "    </tr>\n",
              "    <tr>\n",
              "      <th>1142</th>\n",
              "      <td>52</td>\n",
              "      <td>24.86</td>\n",
              "      <td>0</td>\n",
              "      <td>1</td>\n",
              "      <td>0</td>\n",
              "      <td>1</td>\n",
              "      <td>0</td>\n",
              "      <td>0</td>\n",
              "      <td>0</td>\n",
              "      <td>1</td>\n",
              "      <td>0</td>\n",
              "    </tr>\n",
              "    <tr>\n",
              "      <th>969</th>\n",
              "      <td>39</td>\n",
              "      <td>34.32</td>\n",
              "      <td>5</td>\n",
              "      <td>1</td>\n",
              "      <td>0</td>\n",
              "      <td>1</td>\n",
              "      <td>0</td>\n",
              "      <td>0</td>\n",
              "      <td>0</td>\n",
              "      <td>1</td>\n",
              "      <td>0</td>\n",
              "    </tr>\n",
              "    <tr>\n",
              "      <th>486</th>\n",
              "      <td>54</td>\n",
              "      <td>21.47</td>\n",
              "      <td>3</td>\n",
              "      <td>1</td>\n",
              "      <td>0</td>\n",
              "      <td>1</td>\n",
              "      <td>0</td>\n",
              "      <td>0</td>\n",
              "      <td>1</td>\n",
              "      <td>0</td>\n",
              "      <td>0</td>\n",
              "    </tr>\n",
              "  </tbody>\n",
              "</table>\n",
              "</div>"
            ],
            "text/plain": [
              "      age    bmi  ...  region_southeast  region_southwest\n",
              "560    46  19.95  ...                 0                 0\n",
              "1285   47  24.32  ...                 0                 0\n",
              "1142   52  24.86  ...                 1                 0\n",
              "969    39  34.32  ...                 1                 0\n",
              "486    54  21.47  ...                 0                 0\n",
              "\n",
              "[5 rows x 11 columns]"
            ]
          },
          "metadata": {
            "tags": []
          },
          "execution_count": 42
        }
      ]
    },
    {
      "cell_type": "code",
      "metadata": {
        "colab": {
          "base_uri": "https://localhost:8080/"
        },
        "id": "-uzlvkcC_C_2",
        "outputId": "aed81c57-2ee3-4761-ae00-38bd2ef940d0"
      },
      "source": [
        "print(\"Age Range : \", min(df['age']), '-', max(df['age']))\n",
        "print(\"BMI Range : \", min(df['bmi']), '-', max(df['bmi']))"
      ],
      "execution_count": 43,
      "outputs": [
        {
          "output_type": "stream",
          "text": [
            "Age Range :  18 - 64\n",
            "BMI Range :  15.96 - 53.13\n"
          ],
          "name": "stdout"
        }
      ]
    },
    {
      "cell_type": "markdown",
      "metadata": {
        "id": "OBBgWJllUYiQ"
      },
      "source": [
        "### Feature Scaling"
      ]
    },
    {
      "cell_type": "code",
      "metadata": {
        "id": "wAGT1gXT_cvX"
      },
      "source": [
        "# We can see the Age range and BMI range are very far from 0-1 range. Also, no. of children is in range [0,5]\n",
        "# Although the model will take care of this and assign appropriate weights, but it might be worthwhile to scale the features"
      ],
      "execution_count": 44,
      "outputs": []
    },
    {
      "cell_type": "code",
      "metadata": {
        "id": "DC1OpVyA_vA3"
      },
      "source": [
        "# Read the dataset\n",
        "\n",
        "raw_format_url = 'https://raw.githubusercontent.com/stedy/Machine-Learning-with-R-datasets/master/insurance.csv'\n",
        "\n",
        "df = pd.read_csv(raw_format_url)\n",
        "\n",
        "# Now that all the features are numeric, we can create features and labels\n",
        "X, y = df.drop(columns=['charges'], axis=1), df['charges']\n",
        "\n",
        "# Next, we need to split the data in train and test. We can ignore validation, due to less data size. We'll choose 20% testing data\n",
        "test_size = 0.2\n",
        "\n",
        "X_train, X_test, y_train, y_test = train_test_split(X, y, test_size=test_size, random_state=42)\n",
        "\n",
        "# Create a column transformer\n",
        "ct = make_column_transformer(\n",
        "    (MinMaxScaler(), ['age', 'bmi', 'children']),\n",
        "    (OneHotEncoder(handle_unknown='ignore'), ['sex', 'smoker', 'region'])\n",
        ")\n",
        "\n",
        "# # Fit transform the column transform to train and test dataset\n",
        "# X_train_transformed = ct.fit_transform(X_train)\n",
        "# X_test_transformed = ct.fit_transform(X_test)\n",
        "\n",
        "# fitting column transformer on training data\n",
        "ct.fit(X_train)\n",
        "\n",
        "# transforming training and test data with normalizing (MinMaxScaler) and one hot encodig (OneHotEncoder)\n",
        "X_train_transformed = ct.transform(X_train)\n",
        "X_test_transformed = ct.transform(X_test)"
      ],
      "execution_count": 45,
      "outputs": []
    },
    {
      "cell_type": "code",
      "metadata": {
        "colab": {
          "base_uri": "https://localhost:8080/",
          "height": 331
        },
        "id": "ebiB6DPbBN-5",
        "outputId": "fae45808-a7ac-4def-e2e6-553d7fa997cd"
      },
      "source": [
        "# Let's run the experiment again\n",
        "\n",
        "# Experiment 7 - Data Scaling and removing redundant features\n",
        "\n",
        "# Step 1 - Create the model\n",
        "model = tf.keras.Sequential()\n",
        "model.add(tf.keras.layers.Dense(20, activation='relu'))\n",
        "model.add(tf.keras.layers.Dense(20, activation='relu'))\n",
        "model.add(tf.keras.layers.Dense(20, activation='relu'))\n",
        "model.add(tf.keras.layers.Dense(1))\n",
        "\n",
        "# Step 2 - Compile the model\n",
        "model.compile(loss = tf.keras.losses.mae,\n",
        "              optimizer = tf.keras.optimizers.Adam(learning_rate=0.01),\n",
        "              metrics = ['mae'])\n",
        "\n",
        "# Step 3 - Fit the model\n",
        "history = model.fit(X_train_transformed, y_train, epochs = 100, verbose = 0)\n",
        "\n",
        "# Step 4 - Evaluate the model on both train and test data set\n",
        "model.evaluate(X_train_transformed, y_train)\n",
        "model.evaluate(X_test_transformed, y_test)\n",
        "\n",
        "# Step 5 - Make predictions\n",
        "y_pred = model.predict(X_test_transformed)\n",
        "\n",
        "\n",
        "# Plot history (Also known as loss curve or training curve)\n",
        "\n",
        "pd.DataFrame(history.history).plot()\n",
        "plt.xlabel('Epochs')\n",
        "plt.ylabel('Loss')"
      ],
      "execution_count": 46,
      "outputs": [
        {
          "output_type": "stream",
          "text": [
            "34/34 [==============================] - 0s 1ms/step - loss: 2011.9489 - mae: 2011.9489\n",
            "9/9 [==============================] - 0s 1ms/step - loss: 1756.3867 - mae: 1756.3867\n"
          ],
          "name": "stdout"
        },
        {
          "output_type": "execute_result",
          "data": {
            "text/plain": [
              "Text(0, 0.5, 'Loss')"
            ]
          },
          "metadata": {
            "tags": []
          },
          "execution_count": 46
        },
        {
          "output_type": "display_data",
          "data": {
            "image/png": "[encoded data removed]",
            "text/plain": [
              "<Figure size 432x288 with 1 Axes>"
            ]
          },
          "metadata": {
            "tags": [],
            "needs_background": "light"
          }
        }
      ]
    },
    {
      "cell_type": "code",
      "metadata": {
        "colab": {
          "base_uri": "https://localhost:8080/",
          "height": 331
        },
        "id": "lFuA8-f2DpMP",
        "outputId": "2cd29880-855c-4826-a330-52beb6f9ceab"
      },
      "source": [
        "# No significant improvement. Let's add layers\n",
        "\n",
        "# Experiment 8 - 5 layered DNN\n",
        "\n",
        "# Step 1 - Create the model\n",
        "model = tf.keras.Sequential()\n",
        "model.add(tf.keras.layers.Dense(128, activation='relu'))\n",
        "model.add(tf.keras.layers.Dense(64, activation='relu'))\n",
        "model.add(tf.keras.layers.Dense(32, activation='relu'))\n",
        "model.add(tf.keras.layers.Dense(4, activation='relu'))\n",
        "model.add(tf.keras.layers.Dense(1))\n",
        "\n",
        "# Step 2 - Compile the model\n",
        "model.compile(loss = tf.keras.losses.mae,\n",
        "              optimizer = tf.keras.optimizers.Adam(learning_rate=0.01),\n",
        "              metrics = ['mae'])\n",
        "\n",
        "# Step 3 - Fit the model\n",
        "history = model.fit(X_train_transformed, y_train, epochs = 100, verbose = 0)\n",
        "\n",
        "# Step 4 - Evaluate the model on both train and test data set\n",
        "model.evaluate(X_train_transformed, y_train)\n",
        "model.evaluate(X_test_transformed, y_test)\n",
        "\n",
        "# Step 5 - Make predictions\n",
        "y_pred = model.predict(X_test_transformed)\n",
        "\n",
        "\n",
        "# Plot history (Also known as loss curve or training curve)\n",
        "\n",
        "pd.DataFrame(history.history).plot()\n",
        "plt.xlabel('Epochs')\n",
        "plt.ylabel('Loss')"
      ],
      "execution_count": 47,
      "outputs": [
        {
          "output_type": "stream",
          "text": [
            "34/34 [==============================] - 0s 1ms/step - loss: 1976.2855 - mae: 1976.2855\n",
            "9/9 [==============================] - 0s 2ms/step - loss: 1736.9994 - mae: 1736.9994\n"
          ],
          "name": "stdout"
        },
        {
          "output_type": "execute_result",
          "data": {
            "text/plain": [
              "Text(0, 0.5, 'Loss')"
            ]
          },
          "metadata": {
            "tags": []
          },
          "execution_count": 47
        },
        {
          "output_type": "display_data",
          "data": {
            "image/png": "[encoded data removed]",
            "text/plain": [
              "<Figure size 432x288 with 1 Axes>"
            ]
          },
          "metadata": {
            "tags": [],
            "needs_background": "light"
          }
        }
      ]
    },
    {
      "cell_type": "code",
      "metadata": {
        "colab": {
          "base_uri": "https://localhost:8080/",
          "height": 331
        },
        "id": "jT0oGej1GuYA",
        "outputId": "946448da-a954-4edb-835c-a4ba34218001"
      },
      "source": [
        "# Still not adding much value. Let's try Validation\n",
        "\n",
        "# Experiment 9 - Validation Splits\n",
        "\n",
        "# Step 1 - Create the model\n",
        "model = tf.keras.Sequential()\n",
        "model.add(tf.keras.layers.Dense(100, activation='relu'))\n",
        "model.add(tf.keras.layers.Dense(50, activation='relu'))\n",
        "model.add(tf.keras.layers.Dense(20, activation='relu'))\n",
        "model.add(tf.keras.layers.Dense(1))\n",
        "\n",
        "# Step 2 - Compile the model\n",
        "model.compile(loss = tf.keras.losses.mae,\n",
        "              optimizer = tf.keras.optimizers.Adam(learning_rate=0.01),\n",
        "              metrics = ['mae'])\n",
        "\n",
        "# Step 3 - Fit the model\n",
        "history = model.fit(X_train_transformed, y_train, validation_split=0.2, epochs = 100, verbose = 0)\n",
        "\n",
        "# Step 4 - Evaluate the model on both train and test data set\n",
        "model.evaluate(X_train_transformed, y_train)\n",
        "model.evaluate(X_test_transformed, y_test)\n",
        "\n",
        "# Step 5 - Make predictions\n",
        "y_pred = model.predict(X_test_transformed)\n",
        "\n",
        "\n",
        "# Plot history (Also known as loss curve or training curve)\n",
        "\n",
        "pd.DataFrame(history.history).plot()\n",
        "plt.xlabel('Epochs')\n",
        "plt.ylabel('Loss')"
      ],
      "execution_count": 48,
      "outputs": [
        {
          "output_type": "stream",
          "text": [
            "34/34 [==============================] - 0s 1ms/step - loss: 2038.9629 - mae: 2038.9629\n",
            "9/9 [==============================] - 0s 2ms/step - loss: 1856.5214 - mae: 1856.5214\n"
          ],
          "name": "stdout"
        },
        {
          "output_type": "execute_result",
          "data": {
            "text/plain": [
              "Text(0, 0.5, 'Loss')"
            ]
          },
          "metadata": {
            "tags": []
          },
          "execution_count": 48
        },
        {
          "output_type": "display_data",
          "data": {
            "image/png": "[encoded data removed]",
            "text/plain": [
              "<Figure size 432x288 with 1 Axes>"
            ]
          },
          "metadata": {
            "tags": [],
            "needs_background": "light"
          }
        }
      ]
    },
    {
      "cell_type": "code",
      "metadata": {
        "colab": {
          "base_uri": "https://localhost:8080/",
          "height": 331
        },
        "id": "5QCiR0TcISzg",
        "outputId": "f6bcacda-84ec-4d3d-be34-30f9b08933b1"
      },
      "source": [
        "# Still not adding much value. Let's try Validation\n",
        "\n",
        "# Experiment 10 - Deeper model\n",
        "\n",
        "# Step 1 - Create the model\n",
        "model = tf.keras.Sequential([\n",
        "    tf.keras.layers.Dense(300, activation = tf.keras.activations.relu),\n",
        "    tf.keras.layers.Dense(200, activation = tf.keras.activations.relu),\n",
        "    # tf.keras.layers.Dense(100, activation = tf.keras.activations.relu),\n",
        "    tf.keras.layers.Dense(50, activation = tf.keras.activations.relu),\n",
        "    tf.keras.layers.Dense(50, activation = tf.keras.activations.relu),\n",
        "    tf.keras.layers.Dense(10, activation = tf.keras.activations.relu),\n",
        "    tf.keras.layers.Dense(1)\n",
        "])\n",
        "\n",
        "# Step 2 - Compile the model\n",
        "model.compile(loss = tf.keras.losses.mae,\n",
        "              optimizer = tf.keras.optimizers.Adam(learning_rate=0.05),\n",
        "              metrics = ['mae'])\n",
        "\n",
        "# Step 3 - Fit the model\n",
        "history = model.fit(X_train_transformed, y_train,  epochs = 500, verbose = 0)\n",
        "\n",
        "# Step 4 - Evaluate the model on both train and test data set\n",
        "model.evaluate(X_train_transformed, y_train)\n",
        "model.evaluate(X_test_transformed, y_test)\n",
        "\n",
        "# Step 5 - Make predictions\n",
        "y_pred = model.predict(X_test_transformed)\n",
        "\n",
        "\n",
        "# Plot history (Also known as loss curve or training curve)\n",
        "\n",
        "pd.DataFrame(history.history).plot()\n",
        "plt.xlabel('Epochs')\n",
        "plt.ylabel('Loss')"
      ],
      "execution_count": 49,
      "outputs": [
        {
          "output_type": "stream",
          "text": [
            "34/34 [==============================] - 0s 1ms/step - loss: 1554.9814 - mae: 1554.9814\n",
            "9/9 [==============================] - 0s 2ms/step - loss: 1314.2181 - mae: 1314.2181\n"
          ],
          "name": "stdout"
        },
        {
          "output_type": "execute_result",
          "data": {
            "text/plain": [
              "Text(0, 0.5, 'Loss')"
            ]
          },
          "metadata": {
            "tags": []
          },
          "execution_count": 49
        },
        {
          "output_type": "display_data",
          "data": {
            "image/png": "[encoded data removed]",
            "text/plain": [
              "<Figure size 432x288 with 1 Axes>"
            ]
          },
          "metadata": {
            "tags": [],
            "needs_background": "light"
          }
        }
      ]
    },
    {
      "cell_type": "code",
      "metadata": {
        "id": "gy7pEuPLLw3C"
      },
      "source": [
        "# Best model yet. Although looks like overkill using this architecture and 500 epochs, but gives better results"
      ],
      "execution_count": 50,
      "outputs": []
    }
  ]
}